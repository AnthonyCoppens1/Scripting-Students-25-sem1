{
 "cells": [
  {
   "cell_type": "markdown",
   "id": "99710e3d",
   "metadata": {},
   "source": [
    "# Python basics week 03: class of 3/10\n",
    "working with packages --> numpy, pythonic code\n",
    "arrays, ...\n",
    "\n",
    "Let's say you've got problems with packages --> https://www.dataquest.io/blog/install-pip-windows/"
   ]
  },
  {
   "cell_type": "code",
   "execution_count": null,
   "id": "4983e2de",
   "metadata": {},
   "outputs": [],
   "source": [
    "! pip install numpy"
   ]
  },
  {
   "cell_type": "markdown",
   "id": "c95c1869",
   "metadata": {},
   "source": [
    "## Importing Numpy"
   ]
  },
  {
   "cell_type": "code",
   "execution_count": 2,
   "id": "eabe0be5",
   "metadata": {},
   "outputs": [],
   "source": [
    "import numpy\n",
    "import numpy as np\n",
    "from numpy import arange"
   ]
  },
  {
   "cell_type": "markdown",
   "id": "83ce668c",
   "metadata": {},
   "source": [
    "## Creating arrays\n",
    "Arrays --> all elements have to be the same type, similar to c#"
   ]
  },
  {
   "cell_type": "code",
   "execution_count": null,
   "id": "1cc9e806",
   "metadata": {},
   "outputs": [
    {
     "name": "stdout",
     "output_type": "stream",
     "text": [
      "[1, 5, 8, 10, 3]\n",
      "[ 1  5  8 10  3]\n",
      "[1, 5, 8, 10, 3, 1, 5, 8, 10, 3]\n",
      "[ 2 10 16 20  6]\n",
      "[1, 5, 8, 10, 3, 2]\n",
      "[0 1 2 3 4 5 6 7 8 9]\n",
      "[0. 0. 0. 0. 0. 0. 0. 0. 0. 0.]\n",
      "[1. 1. 1. 1. 1. 1. 1. 1. 1. 1.]\n",
      "[5 5 5 5 5 5 5 5 5 5]\n",
      "[-5  0  0  0 -5 -3 -4 -3  0 -5]\n",
      "[0.37452751 0.7403231  0.09985537 0.69115539 0.42420549 0.24835703\n",
      " 0.16446974 0.02870403 0.25901008 0.16001038]\n"
     ]
    }
   ],
   "source": [
    "import numpy as np\n",
    "list = [1,5,8,10,3]\n",
    "print(list)\n",
    "\n",
    "array = np.array(list)\n",
    "print(array)\n",
    "\n",
    "#list --> seen as a whole and can now be added completely twice\n",
    "#array will store each element and multiply it.\n",
    "\n",
    "print(list * 2)\n",
    "print(array * 2)\n",
    "\n",
    "list.append(2)\n",
    "print(list)\n",
    "#array.append(2) --> just doesn't work, because of fixed size\n",
    "\n",
    "#1D arrays\n",
    "print(np.arange(10)) #every number equivalent to indexes from 0 - 9\n",
    "print(np.zeros(10)) #10 0's --> x amount of 0's\n",
    "print(np.ones(10))\n",
    "print(np.full(10,5))\n",
    "\n",
    "print(np.random.randint(-5,6, 10)) #generates random numbers, low point, high point (not inc), amount\n",
    "print(np.random.random(10)) #random floats in array of size x"
   ]
  },
  {
   "cell_type": "markdown",
   "id": "26b47289",
   "metadata": {},
   "source": [
    "## Reshaping and converting arrays"
   ]
  },
  {
   "cell_type": "code",
   "execution_count": 44,
   "id": "58f23847",
   "metadata": {},
   "outputs": [
    {
     "name": "stdout",
     "output_type": "stream",
     "text": [
      "[-3 -2  0 -5  0  3 -4 -2  0  4]\n",
      "(10,)\n",
      "1\n",
      "array has number of datatype: int32\n",
      "[-3. -2.  0. -5.  0.  3. -4. -2.  0.  4.]\n",
      "['-3' '-2' '0' '-5' '0' '3' '-4' '-2' '0' '4']\n",
      "[[-3 -2  0 -5  0]\n",
      " [ 3 -4 -2  0  4]]\n",
      "2\n",
      "(2, 5)\n",
      "[[-3 -2]\n",
      " [ 0 -5]\n",
      " [ 0  3]\n",
      " [-4 -2]\n",
      " [ 0  4]]\n",
      "[[-3]\n",
      " [-2]\n",
      " [ 0]\n",
      " [-5]\n",
      " [ 0]\n",
      " [ 3]\n",
      " [-4]\n",
      " [-2]\n",
      " [ 0]\n",
      " [ 4]]\n",
      "[[-3 -2  0 -5  0]\n",
      " [ 3 -4 -2  0  4]]\n"
     ]
    }
   ],
   "source": [
    "import numpy as np\n",
    "#for safety --> calling array again and giving it values\n",
    "array = np.random.randint(-5,6,10)\n",
    "print(array)\n",
    "print(array.shape) #length\n",
    "print(array.ndim) #number of dimensions of your array\n",
    "\n",
    "print(\"array has number of datatype:\", array.dtype)\n",
    "\n",
    "array_float = array.astype('f') \n",
    "#astype converts from a type into the other\n",
    "#i - integer / b - boolean / f - float / M - datetime / S - string / however words also work --> str, int, bool, float\n",
    "print(array_float)\n",
    "array_string = array.astype(str)\n",
    "print(array_string)\n",
    "\n",
    "#2D arrays\n",
    "array_2D = np.reshape(array, (2,5))\n",
    "print(array_2D)\n",
    "print(array_2D.ndim)\n",
    "print(array_2D.shape)\n",
    "\n",
    "array_2D = np.reshape(array, (5,2))\n",
    "print(array_2D)\n",
    "\n",
    "#reshaping has to result in a perfect match --> cannot reshape into something that the original cannot be split by\n",
    "#array_2D = np.reshape(array, (3,3))\n",
    "#print(array_2D)\n",
    "\n",
    "array_2D = np.reshape(array, (10,1)) #also possible\n",
    "print(array_2D)\n",
    "\n",
    "array_2D = np.reshape(array, (-1,5))\n",
    "print(array_2D)\n"
   ]
  },
  {
   "cell_type": "markdown",
   "id": "d50b0d47",
   "metadata": {},
   "source": [
    "## slicing arrays\n",
    "[start : end : step]\n",
    "- start = starting index\n",
    "- end = ending index (not included)\n",
    "- step = stepsize"
   ]
  },
  {
   "cell_type": "code",
   "execution_count": null,
   "id": "43c4a983",
   "metadata": {},
   "outputs": [
    {
     "name": "stdout",
     "output_type": "stream",
     "text": [
      "[6 8 2 9 3 1 4 7 0 5]\n",
      "[8 2 9 3]\n",
      "[8 2 9 3]\n",
      "[8 9]\n",
      "[6 8 2 9 3]\n",
      "[6 8 2 9 3]\n",
      "[6 8 2 9 3 1 4 7 0 5]\n",
      "[6 8 2 9 3 1 4 7 0 5]\n",
      "[5 0 7 4 1 3 9 2 8 6]\n",
      "[5 7 1 9 8]\n",
      "[]\n",
      "[5 0 7 4 1 3 9 2 8 6]\n"
     ]
    }
   ],
   "source": [
    "import numpy as np\n",
    "array = np.array([6, 8, 2, 9, 3, 1, 4, 7, 0, 5])\n",
    "print(array)\n",
    "\n",
    "print(array[1:5:1]) #[8 2 9 3]\n",
    "print(array[1:5:])#default step is same as 1\n",
    "print(array[1:5:2]) #[8 9]\n",
    "\n",
    "print(array[0:5:1]) #[6 8 2 9 3]\n",
    "print(array[:5:1]) #[6 8 2 9 3]\n",
    "\n",
    "print(array[0::1]) #[6 8 2 9 3 1 4 7 0 5]\n",
    "print(array[0:10:1])\n",
    "\n",
    "#reverse\n",
    "print(array[::-1])\n",
    "print(array[::-2])\n",
    "\n",
    "print(array[0:10:-1]) #shows nothing\n",
    "print(array[10::-1]) #leave the end blank to do the full reverse, else you just add your index (not included)\n"
   ]
  },
  {
   "cell_type": "markdown",
   "id": "6d40f2ef",
   "metadata": {},
   "source": [
    "## Some extra work with arrays"
   ]
  },
  {
   "cell_type": "code",
   "execution_count": 83,
   "id": "6d80bcb0",
   "metadata": {},
   "outputs": [
    {
     "name": "stdout",
     "output_type": "stream",
     "text": [
      "[0 1 2 3 4 5 6 7 8 9] [9 8 7 6 5 4 3 2 1 0]\n",
      "[9 9 9 9 9 9 9 9 9 9]\n",
      "[-9 -7 -5 -3 -1  1  3  5  7  9]\n",
      "[ 0  8 14 18 20 20 18 14  8  0]\n",
      "[1 1 3 3 5 5 7 7 9 9]\n",
      "(array([0, 1, 2, 3]),)\n",
      "[9 8 7 6 0 0 0 0 0 0]\n",
      "\n",
      "[[9 8 7 6 5]\n",
      " [4 3 2 1 0]]\n",
      "\n",
      "[13 11  9  7  5]\n",
      "[35 10]\n",
      "[[ 9 17 24 30 35]\n",
      " [ 4  7  9 10 10]]\n",
      "\n",
      "45\n",
      "0\n",
      "9\n",
      "[0.         1.         1.41421356 1.73205081 2.         2.23606798\n",
      " 2.44948974 2.64575131 2.82842712 3.        ]\n",
      "3.0\n"
     ]
    }
   ],
   "source": [
    "a = np.arange(0, 10)\n",
    "b = np.arange(9, -1, -1)\n",
    "print(a,b)\n",
    "print(a + b)\n",
    "print(a - b)\n",
    "print(a * b)\n",
    "print(np.where(a % 2 == 0, a + 1, a)) #--> condition, x, y --> x if true, y if false\n",
    "\n",
    "print(np.where(b > 5))\n",
    "print(np.where(b > 5, b, 0))\n",
    "print()\n",
    "\n",
    "b = np.reshape(b, (2, 5))\n",
    "print(b)\n",
    "print()\n",
    "\n",
    "print(b.sum(axis=0)) #sum of columns\n",
    "print(b.sum(axis=1)) #sum of rows\n",
    "print(b.cumsum(axis=1)) #cumulative sum of numbers, calculating then printing 1 at a time.\n",
    "\n",
    "print()\n",
    "print(a.sum())\n",
    "print(a.min())\n",
    "print(a.max())\n",
    "\n",
    "print(np.sqrt(a))\n",
    "print(np.sqrt(a.max()))"
   ]
  },
  {
   "cell_type": "markdown",
   "id": "51093020",
   "metadata": {},
   "source": [
    "### Exercise: It's magic time!!!\n",
    "Read in a 1D array and a number of rows! Convert the array to 2D, calculate the sum of each column and if all sums are equal --> provide a message saying: it's a magic table<br><br>\n",
    "\n",
    "<b>input</b><br>\n",
    "2 7 0 8 4 1 1 0 10<br>\n",
    "3<br>\n",
    "<b>output</b><br>\n",
    "True\n",
    "<pre>\n",
    "2 7 0<br>\n",
    "8 4 1<br>\n",
    "1 0 10<br>\n",
    "<i> 11 11 11</i> --> MAGIC TABLE\n",
    "</pre>"
   ]
  },
  {
   "cell_type": "code",
   "execution_count": null,
   "id": "178ae269",
   "metadata": {},
   "outputs": [
    {
     "name": "stdout",
     "output_type": "stream",
     "text": [
      "[[ 2  7  0]\n",
      " [ 8  4  1]\n",
      " [ 1  0 10]]\n",
      "[11 11 11]\n",
      "MAGIC TABLE\n"
     ]
    }
   ],
   "source": [
    "import numpy as np\n",
    "s = input() # 2 7 0 8 4 1 1 0 10\n",
    "array1D = np.array(s.split(\" \"))\n",
    "array1D = array1D.astype(int)\n",
    "rows = int(input())\n",
    "col = int(len(array1D) / rows)\n",
    "\n",
    "array = np.reshape(array1D, (rows, col))\n",
    "print(array)\n",
    "\n",
    "sums = np.sum(array, axis = 0) #0 = cols\n",
    "print(sums)\n",
    "\n",
    "total = np.sum(sums)\n",
    "if total // rows == sums[0]:\n",
    "    print(\"MAGIC TABLE\")\n",
    "else:\n",
    "    print(\"NO MAGIC TABLE\")\n"
   ]
  }
 ],
 "metadata": {
  "kernelspec": {
   "display_name": "Python 3",
   "language": "python",
   "name": "python3"
  },
  "language_info": {
   "codemirror_mode": {
    "name": "ipython",
    "version": 3
   },
   "file_extension": ".py",
   "mimetype": "text/x-python",
   "name": "python",
   "nbconvert_exporter": "python",
   "pygments_lexer": "ipython3",
   "version": "3.13.7"
  }
 },
 "nbformat": 4,
 "nbformat_minor": 5
}
