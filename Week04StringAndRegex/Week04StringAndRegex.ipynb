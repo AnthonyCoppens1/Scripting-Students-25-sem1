{
 "cells": [
  {
   "cell_type": "markdown",
   "id": "e5aeee20",
   "metadata": {},
   "source": [
    "# Week 4 - strings and regex\n",
    "## Strings\n",
    "### Raw strings"
   ]
  },
  {
   "cell_type": "code",
   "execution_count": 6,
   "id": "d481bb89",
   "metadata": {},
   "outputs": [
    {
     "name": "stdout",
     "output_type": "stream",
     "text": [
      "This is a string\n",
      "This is also a string\n",
      "This is a string with ' single quote\n",
      "This is one with \" a double quote\n",
      "This is a string with ' single and \" double quote\n",
      "This is a string with a \n",
      " new line, ' single and \" double quote \n",
      "This is a single ', a double \\\" and a \\n new line\n"
     ]
    }
   ],
   "source": [
    "s = \"This is a string\"\n",
    "print(s)\n",
    "\n",
    "s = 'This is also a string'\n",
    "print(s)\n",
    "\n",
    "s = \"This is a string with ' single quote\"\n",
    "print(s)\n",
    "\n",
    "s = 'This is one with \" a double quote'\n",
    "print(s)\n",
    "\n",
    "s = \"This is a string with ' single and \\\" double quote\"\n",
    "print(s)\n",
    "\n",
    "# \\n is a new line, \n",
    "s = \"This is a string with a \\n new line, ' single and \\\" double quote \"\n",
    "print(s)\n",
    "\n",
    "s = r\"This is a single ', a double \\\" and a \\n new line\" \n",
    "print(s)"
   ]
  },
  {
   "cell_type": "markdown",
   "id": "c87f35b4",
   "metadata": {},
   "source": [
    "### Slicing strings\n",
    "[start : end : step]"
   ]
  },
  {
   "cell_type": "code",
   "execution_count": null,
   "id": "9b6e7de0",
   "metadata": {},
   "outputs": [
    {
     "name": "stdout",
     "output_type": "stream",
     "text": [
      "!gnitpircs htiw evol ni era flesruoy uoY\n",
      "scripting\n",
      "True\n",
      "False\n",
      "True\n"
     ]
    }
   ],
   "source": [
    "s = \"You yourself are in love with scripting!\"\n",
    "print(s[::-1]) #reversing string\n",
    "\n",
    "s = s.split()\n",
    "print(s[len(s)-1][:-1:])\n",
    "\n",
    "s = \"You yourself are in love with scripting!\"\n",
    "print(\"scripting\" in s) \n",
    "print(\"Scripting\" in s)\n",
    "print(\"Scripting\" not in s)"
   ]
  },
  {
   "cell_type": "markdown",
   "id": "e230d063",
   "metadata": {},
   "source": [
    "### Splitting & joining"
   ]
  },
  {
   "cell_type": "code",
   "execution_count": null,
   "id": "8677cbe1",
   "metadata": {},
   "outputs": [
    {
     "name": "stdout",
     "output_type": "stream",
     "text": [
      "['You', 'yourself', 'are', 'in', 'love', 'with', 'scripting!']\n",
      "['1,2,3,4,5,6,7']\n",
      "['1', '2', '3', '4', '5', '6', '7']\n",
      "[1, 2, 3, 4, 5, 6, 7]\n",
      "1_2_3_4_5_6_7\n"
     ]
    }
   ],
   "source": [
    "#splitting strings into a list of strings, getting a list and returning a string\n",
    "s = \"You yourself are in love with scripting!\"\n",
    "\n",
    "list = s.split() #beware of things like ?!. ... --> they get added to your last index\n",
    "print(list)\n",
    "\n",
    "s = \"1,2,3,4,5,6,7\"\n",
    "list = s.split() #default splits on space\n",
    "print(list)\n",
    "list = s.split(\",\")\n",
    "print(list)\n",
    "\n",
    "list_int = [int(x) for x in list]\n",
    "print(list_int)\n",
    "\n",
    "print(\"_\".join(list))"
   ]
  },
  {
   "cell_type": "markdown",
   "id": "3c3befc1",
   "metadata": {},
   "source": [
    "### Useful things / methods to have."
   ]
  },
  {
   "cell_type": "code",
   "execution_count": 50,
   "id": "f1193db3",
   "metadata": {},
   "outputs": [
    {
     "name": "stdout",
     "output_type": "stream",
     "text": [
      "tHIS.IS.A.STRING.WITH.NUMBERS.$.$.$"
     ]
    }
   ],
   "source": [
    "s = \"This is a string with numbers 7 8 1\"\n",
    "for c in s: #checks for every char\n",
    "    if c.isupper():\n",
    "        print(c.lower(), end=\"\")\n",
    "    elif c.islower():\n",
    "        print(c.upper(), end=\"\")\n",
    "    elif c.isnumeric():\n",
    "        print(\"$\", end=\"\")\n",
    "    elif c.isspace():\n",
    "        print(\".\", end=\"\")\n"
   ]
  },
  {
   "cell_type": "markdown",
   "id": "e3b2c2ca",
   "metadata": {},
   "source": [
    "### Stripping a string\n",
    "(not what you think it is)"
   ]
  },
  {
   "cell_type": "code",
   "execution_count": null,
   "id": "1ebab3aa",
   "metadata": {},
   "outputs": [
    {
     "name": "stdout",
     "output_type": "stream",
     "text": [
      "*           a lot of spaces         *\n",
      "*           a lot of spaces*\n",
      "*a lot of spaces        *\n",
      "*a lot of spaces*\n"
     ]
    }
   ],
   "source": [
    "s = \"          a lot of spaces        \"\n",
    "print(\"*\", s ,\"*\")\n",
    "print(\"*\", s.rstrip() + \"*\") #removes all spaces on the right\n",
    "print(\"*\" + s.lstrip() + \"*\") #removes all spaces on the left\n",
    "print(\"*\" + s.strip() + \"*\") #removes all spaces in front and behind!"
   ]
  },
  {
   "cell_type": "code",
   "execution_count": 62,
   "id": "bc0169a7",
   "metadata": {},
   "outputs": [
    {
     "name": "stdout",
     "output_type": "stream",
     "text": [
      "97\n",
      "b\n"
     ]
    }
   ],
   "source": [
    "#small ascii refresher\n",
    "c = \"a\"\n",
    "print(ord(c))\n",
    "print(chr(98))"
   ]
  },
  {
   "cell_type": "markdown",
   "id": "f0ac954e",
   "metadata": {},
   "source": [
    "### Exercise Pig Latin\n",
    "- word starts with a consonant --> add consonant at the back + \"ay\" //happy --> appyhay\n",
    "- word starts with 2 consonants --> add both to the end and add \"ay\" //child --> ildchay\n",
    "- word starts with a vowel --> add \"way\" //awesome --> awesomeway\n",
    "Youssef woke up without coffee in his hands\n",
    "oussefyay okeway upway ithoutway offeecay inway ishay andshay\n",
    "\n",
    "def PigLatin(word):\n",
    "    if word[0] in \"aeiou\":\n",
    "    code\n",
    "    \n",
    "s = input()\n",
    "PigLatin(s)"
   ]
  },
  {
   "cell_type": "code",
   "execution_count": 64,
   "id": "f39c4968",
   "metadata": {},
   "outputs": [
    {
     "name": "stdout",
     "output_type": "stream",
     "text": [
      "ousselfyay okeway upway ithoutway offeecay inway ishay andshay "
     ]
    }
   ],
   "source": [
    "def PigLatin(word):\n",
    "    word = word.lower()\n",
    "    if word[0] in \"aeiou\":\n",
    "        return word + \"way\"\n",
    "    else:\n",
    "        if word[1] in \"aeiou\":\n",
    "            return word[1::] + word[0] + \"ay\"\n",
    "        else:\n",
    "            return word[2::] + word[0:1:] + \"ay\"            \n",
    "    \n",
    "    \n",
    "s = input()\n",
    "for word in s.split():\n",
    "    print(PigLatin(word), end=\" \")"
   ]
  },
  {
   "cell_type": "markdown",
   "id": "9106af71",
   "metadata": {},
   "source": [
    "# regular expressions"
   ]
  },
  {
   "cell_type": "code",
   "execution_count": null,
   "id": "2452622a",
   "metadata": {},
   "outputs": [
    {
     "name": "stdout",
     "output_type": "stream",
     "text": [
      "['Lorem123', 'Cras', 'Quisque', 'Nunc', 'Ut', 'Vestibulum', 'Nunc', 'Mauris234987', 'Phasellus', 'Vivamus', 'Phasellus', 'Pellentesque', 'Nam', 'In', 'Duis']\n",
      "['amet', 'elit', 'Cras', 'Nunc', '5678', 'ante', 'Nunc', '1234', '9012', 'nisi', 'ante', '2345', 'quis', 'ante', '6789', 'enim', 'amet', 'eros', 'eget', 'Duis', 'arcu', 'erat']\n",
      "<re.Match object; span=(25, 29), match='amet'>\n",
      "amet\n",
      "(25, 29)\n",
      "['amet', 'elit', 'Cras', 'Nunc', '5678', 'ante', 'Nunc', '1234', '9012', 'nisi', 'ante', '2345', 'quis', 'ante', '6789', 'enim', 'amet', 'eros', 'eget', 'Duis', 'arcu', 'erat']\n",
      "<re.Match object; span=(0, 4), match='ante'>\n",
      "['Lorem123 ipsum dolor sit ', ', consectetur adipiscing ', '. ', ' imperdiet mollis fermentum. \\nQuisque a hendrerit dolor. ', ' ', ' id vulputate ', ', vitae ultricies neque. Ut ac hendrerit tellus, \\nut iaculis ligula. Vestibulum consectetur leo velit, in molestie leo ultricies et. ', ' hendrerit \\ntincidunt sollicitudin. Mauris234987 iaculis ', ' suscipit est, id facilisis magna maximus et. Phasellus viverra, \\nrisus ', ' ullamcorper malesuada malesuada, nulla lacus congue magna, euismod blandit massa ipsum vitae ', '. \\nVivamus imperdiet sed ', ' vel mattis. Phasellus ', ' scelerisque justo ', ' massa malesuada mollis. Pellentesque \\nfacilisis justo magna, id auctor neque viverra condimentum. Nam lacus ', ', commodo a massa vel, accumsan \\nelementum ', ' ', '. In sit ', ' ', ' id lacus suscipit fermentum ', ' et purus. ', ' ', ' ', ', fermentum vitae \\nultricies cursus, posuere nec nulla.']\n",
      "\n",
      "Lorem123 ipsum dolor sit FOUR, consectetur adipiscing FOUR. FOUR imperdiet mollis fermentum. \n",
      "Quisque a hendrerit dolor. FOUR FOUR id vulputate FOUR, vitae ultricies neque. Ut ac hendrerit tellus, \n",
      "ut iaculis ligula. Vestibulum consectetur leo velit, in molestie leo ultricies et. FOUR hendrerit \n",
      "tincidunt sollicitudin. Mauris234987 iaculis FOUR suscipit est, id facilisis magna maximus et. Phasellus viverra, \n",
      "risus FOUR ullamcorper malesuada malesuada, nulla lacus congue magna, euismod blandit massa ipsum vitae FOUR. \n",
      "Vivamus imperdiet sed FOUR vel mattis. Phasellus FOUR scelerisque justo FOUR massa malesuada mollis. Pellentesque \n",
      "facilisis justo magna, id auctor neque viverra condimentum. Nam lacus FOUR, commodo a massa vel, accumsan \n",
      "elementum FOUR FOUR. In sit FOUR FOUR id lacus suscipit fermentum FOUR et purus. FOUR FOUR FOUR, fermentum vitae \n",
      "ultricies cursus, posuere nec nulla.\n"
     ]
    }
   ],
   "source": [
    "import re\n",
    "\n",
    "text = \"\"\"Lorem123 ipsum dolor sit amet, consectetur adipiscing elit. Cras imperdiet mollis fermentum. \n",
    "Quisque a hendrerit dolor. Nunc 5678 id vulputate ante, vitae ultricies neque. Ut ac hendrerit tellus, \n",
    "ut iaculis ligula. Vestibulum consectetur leo velit, in molestie leo ultricies et. Nunc hendrerit \n",
    "tincidunt sollicitudin. Mauris234987 iaculis 1234 suscipit est, id facilisis magna maximus et. Phasellus viverra, \n",
    "risus 9012 ullamcorper malesuada malesuada, nulla lacus congue magna, euismod blandit massa ipsum vitae nisi. \n",
    "Vivamus imperdiet sed ante vel mattis. Phasellus 2345 scelerisque justo quis massa malesuada mollis. Pellentesque \n",
    "facilisis justo magna, id auctor neque viverra condimentum. Nam lacus ante, commodo a massa vel, accumsan \n",
    "elementum 6789 enim. In sit amet eros id lacus suscipit fermentum eget et purus. Duis arcu erat, fermentum vitae \n",
    "ultricies cursus, posuere nec nulla.\"\"\"\n",
    "\n",
    "regex = r\"[A-Z]\\w+\"\n",
    "list = re.findall(regex,text)\n",
    "print(list)\n",
    "\n",
    "regex = r\"\\b\\w{4}\\b\" #\\b is going for whole words instead of substrings\n",
    "list = re.findall(regex,text)\n",
    "print(list)\n",
    "\n",
    "print(re.search(regex, text)) #first match\n",
    "\n",
    "result = re.search(regex, text)\n",
    "print(result.group()) #shows first match\n",
    "print(result.span())\n",
    "\n",
    "regex_object = re.compile(regex) #compiling regex first\n",
    "print(regex_object.findall(text))\n",
    "print(regex_object.match(\"ante\"))\n",
    "\n",
    "print(regex_object.split(text))\n",
    "print()\n",
    "print(regex_object.sub(\"FOUR\", text)) #sub replaces 1 or more cases with the given alternative in a given text\n",
    "\n"
   ]
  }
 ],
 "metadata": {
  "kernelspec": {
   "display_name": "Python 3",
   "language": "python",
   "name": "python3"
  },
  "language_info": {
   "codemirror_mode": {
    "name": "ipython",
    "version": 3
   },
   "file_extension": ".py",
   "mimetype": "text/x-python",
   "name": "python",
   "nbconvert_exporter": "python",
   "pygments_lexer": "ipython3",
   "version": "3.13.8"
  }
 },
 "nbformat": 4,
 "nbformat_minor": 5
}
