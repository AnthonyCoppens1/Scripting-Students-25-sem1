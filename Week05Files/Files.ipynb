{
 "cells": [
  {
   "cell_type": "markdown",
   "id": "6e0cfa69",
   "metadata": {},
   "source": [
    "# Week 5 - files\n",
    "- files and folders (structure)\n",
    "- creating files\n",
    "- writing files\n",
    "- reading files\n",
    "- compressing and decompressing files\n",
    "- csv-files\n",
    "..."
   ]
  },
  {
   "cell_type": "markdown",
   "id": "627719a0",
   "metadata": {},
   "source": [
    "## RECAP FIRST\n",
    "Write a python script/function that is called: validate_email(email)\n",
    "--> takes in an email as input and returns a boolean as output. The boolean will indicate whether or not it is a valid email.\n",
    "\n",
    "- at least contain @ (arrobas)\n",
    "- only special chars that're allowed are: . (dot) _ (underscore) and - (hyphen)\n",
    "- number are allowed as well as letters\n",
    "- one char needed in front of @ and at least 2 chars after the @\n",
    "- email can never end in a dot.\n",
    "- part after @ --> only contains letters, dots and hyphens"
   ]
  },
  {
   "cell_type": "code",
   "execution_count": 16,
   "id": "20403c3d",
   "metadata": {},
   "outputs": [
    {
     "name": "stdout",
     "output_type": "stream",
     "text": [
      "True\n",
      "False\n",
      "False\n",
      "False\n",
      "True\n"
     ]
    }
   ],
   "source": [
    "import re\n",
    "\n",
    "def validate_email(email):\n",
    "    if \"@\" not in email:\n",
    "        return False\n",
    "    \n",
    "    parts = email.split(\"@\")\n",
    "\n",
    "    if len(parts) != 2:\n",
    "        return False\n",
    "    \n",
    "    if re.match(r\"[\\w\\.\\-_]+\", parts[0]) is None:\n",
    "        return False\n",
    "    \n",
    "    if re.match(r\"[a-z\\.\\-]{2,}\", parts[1]) is None:\n",
    "        return False\n",
    "    \n",
    "    if email[-1] == \".\":\n",
    "        return False\n",
    "    \n",
    "    return True\n",
    "\n",
    "print(validate_email(\"anthony.coppens@thomasmore.be\"))\n",
    "print(validate_email(\"58Thomasmore@thomas.thomas@more.be\"))\n",
    "print(validate_email(\"Thomasmore@thomas.thomasmore.\"))\n",
    "print(validate_email(\".@.\"))\n",
    "print(validate_email(\"a@a.be\"))\n"
   ]
  },
  {
   "cell_type": "markdown",
   "id": "a4b06752",
   "metadata": {},
   "source": [
    "# Files and folders: os and pathlib"
   ]
  },
  {
   "cell_type": "code",
   "execution_count": 26,
   "id": "5e9c650f",
   "metadata": {},
   "outputs": [
    {
     "name": "stdout",
     "output_type": "stream",
     "text": [
      "c:\\Users\\antho\\OneDrive\\Documenten\\Anthony-TM\\Scripting\\Scripting-Students-25-sem1\\Week05Files\n",
      "<class 'str'>\n",
      "c:\\Users\\antho\\OneDrive\\Documenten\\Anthony-TM\\Scripting\\Scripting-Students-25-sem1\\Week05Files\n",
      "<class 'pathlib._local.WindowsPath'>\n",
      "\n",
      "Filename:  calc.exe\n",
      "Name:  calc\n",
      "Extension:  .exe\n",
      "Parent directory:  C:\\Windows\\System32\n",
      "True\n",
      "True\n",
      "C:\\Users\\antho\n",
      "C:\\Users\\antho\\test\n",
      "C:\\Users\\antho/test\n",
      "C:\\Users\\antho\\test\n",
      "c:\\Users\\antho\\OneDrive\\Documenten\\Anthony-TM\\Scripting\\Scripting-Students-25-sem1\\Week05Files\\e-mail.txt\n",
      "c:\\Users\\antho\\OneDrive\\Documenten\\Anthony-TM\\Scripting\\Scripting-Students-25-sem1\\Week05Files\\e-mail.txt\n"
     ]
    }
   ],
   "source": [
    "import os\n",
    "import pathlib\n",
    "\n",
    "print(os.getcwd()) #returns a string of the current working directory\n",
    "print(type(os.getcwd()))\n",
    "\n",
    "print(pathlib.Path.cwd()) #returns an object of current working directory aka path\n",
    "print(type(pathlib.Path.cwd()))\n",
    "\n",
    "print()\n",
    "\n",
    "calc = pathlib.Path(r\"C:\\Windows\\System32\\calc.exe\")\n",
    "#calculator on pc\n",
    "print(\"Filename: \", calc.name)\n",
    "print(\"Name: \", calc.stem) #name without extension\n",
    "print(\"Extension: \", calc.suffix) #suffix\n",
    "print(\"Parent directory: \", calc.parent)\n",
    "print(calc.is_file())\n",
    "print(calc.exists())\n",
    "\n",
    "print(pathlib.Path.home())\n",
    "#working with strings\n",
    "print(str(pathlib.Path.home()) + \"\\\\\" + \"test\") #WINDOWS\n",
    "print(str(pathlib.Path.home()) + \"/\" + \"test\") #MACOS\n",
    "\n",
    "print(pathlib.Path.home()/\"test\")\n",
    "\n",
    "path_to_email = os.getcwd() + r\"\\e-mail.txt\"\n",
    "print(path_to_email)\n",
    "\n",
    "path_to_email = pathlib.Path.cwd()/\"e-mail.txt\"\n",
    "print(path_to_email)\n"
   ]
  },
  {
   "cell_type": "markdown",
   "id": "e0b0a3c8",
   "metadata": {},
   "source": [
    "### walking in a directory"
   ]
  },
  {
   "cell_type": "code",
   "execution_count": 27,
   "id": "656f4198",
   "metadata": {},
   "outputs": [
    {
     "name": "stdout",
     "output_type": "stream",
     "text": [
      "The current folder is C:\\Users\\antho\\OneDrive\\Documenten\\Anthony-TM\\Scripting\\Scripting-Students-25-sem1\n",
      "SUBFOLDER OF C:\\Users\\antho\\OneDrive\\Documenten\\Anthony-TM\\Scripting\\Scripting-Students-25-sem1: .git\n",
      "SUBFOLDER OF C:\\Users\\antho\\OneDrive\\Documenten\\Anthony-TM\\Scripting\\Scripting-Students-25-sem1: Week01Basics\n",
      "SUBFOLDER OF C:\\Users\\antho\\OneDrive\\Documenten\\Anthony-TM\\Scripting\\Scripting-Students-25-sem1: Week02Basics\n",
      "SUBFOLDER OF C:\\Users\\antho\\OneDrive\\Documenten\\Anthony-TM\\Scripting\\Scripting-Students-25-sem1: Week03Basics\n",
      "SUBFOLDER OF C:\\Users\\antho\\OneDrive\\Documenten\\Anthony-TM\\Scripting\\Scripting-Students-25-sem1: Week04StringAndRegex\n",
      "SUBFOLDER OF C:\\Users\\antho\\OneDrive\\Documenten\\Anthony-TM\\Scripting\\Scripting-Students-25-sem1: Week05Files\n",
      "FILE INSIDE C:\\Users\\antho\\OneDrive\\Documenten\\Anthony-TM\\Scripting\\Scripting-Students-25-sem1: .gitattributes\n",
      "FILE INSIDE C:\\Users\\antho\\OneDrive\\Documenten\\Anthony-TM\\Scripting\\Scripting-Students-25-sem1: README.md\n",
      "---------\n",
      "The current folder is C:\\Users\\antho\\OneDrive\\Documenten\\Anthony-TM\\Scripting\\Scripting-Students-25-sem1\\.git\n",
      "SUBFOLDER OF C:\\Users\\antho\\OneDrive\\Documenten\\Anthony-TM\\Scripting\\Scripting-Students-25-sem1\\.git: hooks\n",
      "SUBFOLDER OF C:\\Users\\antho\\OneDrive\\Documenten\\Anthony-TM\\Scripting\\Scripting-Students-25-sem1\\.git: info\n",
      "SUBFOLDER OF C:\\Users\\antho\\OneDrive\\Documenten\\Anthony-TM\\Scripting\\Scripting-Students-25-sem1\\.git: logs\n",
      "SUBFOLDER OF C:\\Users\\antho\\OneDrive\\Documenten\\Anthony-TM\\Scripting\\Scripting-Students-25-sem1\\.git: objects\n",
      "SUBFOLDER OF C:\\Users\\antho\\OneDrive\\Documenten\\Anthony-TM\\Scripting\\Scripting-Students-25-sem1\\.git: refs\n",
      "FILE INSIDE C:\\Users\\antho\\OneDrive\\Documenten\\Anthony-TM\\Scripting\\Scripting-Students-25-sem1\\.git: COMMIT_EDITMSG\n",
      "FILE INSIDE C:\\Users\\antho\\OneDrive\\Documenten\\Anthony-TM\\Scripting\\Scripting-Students-25-sem1\\.git: config\n",
      "FILE INSIDE C:\\Users\\antho\\OneDrive\\Documenten\\Anthony-TM\\Scripting\\Scripting-Students-25-sem1\\.git: description\n",
      "FILE INSIDE C:\\Users\\antho\\OneDrive\\Documenten\\Anthony-TM\\Scripting\\Scripting-Students-25-sem1\\.git: FETCH_HEAD\n",
      "FILE INSIDE C:\\Users\\antho\\OneDrive\\Documenten\\Anthony-TM\\Scripting\\Scripting-Students-25-sem1\\.git: HEAD\n",
      "FILE INSIDE C:\\Users\\antho\\OneDrive\\Documenten\\Anthony-TM\\Scripting\\Scripting-Students-25-sem1\\.git: index\n",
      "FILE INSIDE C:\\Users\\antho\\OneDrive\\Documenten\\Anthony-TM\\Scripting\\Scripting-Students-25-sem1\\.git: ORIG_HEAD\n",
      "---------\n",
      "The current folder is C:\\Users\\antho\\OneDrive\\Documenten\\Anthony-TM\\Scripting\\Scripting-Students-25-sem1\\.git\\hooks\n",
      "FILE INSIDE C:\\Users\\antho\\OneDrive\\Documenten\\Anthony-TM\\Scripting\\Scripting-Students-25-sem1\\.git\\hooks: applypatch-msg.sample\n",
      "FILE INSIDE C:\\Users\\antho\\OneDrive\\Documenten\\Anthony-TM\\Scripting\\Scripting-Students-25-sem1\\.git\\hooks: commit-msg.sample\n",
      "FILE INSIDE C:\\Users\\antho\\OneDrive\\Documenten\\Anthony-TM\\Scripting\\Scripting-Students-25-sem1\\.git\\hooks: fsmonitor-watchman.sample\n",
      "FILE INSIDE C:\\Users\\antho\\OneDrive\\Documenten\\Anthony-TM\\Scripting\\Scripting-Students-25-sem1\\.git\\hooks: post-update.sample\n",
      "FILE INSIDE C:\\Users\\antho\\OneDrive\\Documenten\\Anthony-TM\\Scripting\\Scripting-Students-25-sem1\\.git\\hooks: pre-applypatch.sample\n",
      "FILE INSIDE C:\\Users\\antho\\OneDrive\\Documenten\\Anthony-TM\\Scripting\\Scripting-Students-25-sem1\\.git\\hooks: pre-commit.sample\n",
      "FILE INSIDE C:\\Users\\antho\\OneDrive\\Documenten\\Anthony-TM\\Scripting\\Scripting-Students-25-sem1\\.git\\hooks: pre-merge-commit.sample\n",
      "FILE INSIDE C:\\Users\\antho\\OneDrive\\Documenten\\Anthony-TM\\Scripting\\Scripting-Students-25-sem1\\.git\\hooks: pre-push.sample\n",
      "FILE INSIDE C:\\Users\\antho\\OneDrive\\Documenten\\Anthony-TM\\Scripting\\Scripting-Students-25-sem1\\.git\\hooks: pre-rebase.sample\n",
      "FILE INSIDE C:\\Users\\antho\\OneDrive\\Documenten\\Anthony-TM\\Scripting\\Scripting-Students-25-sem1\\.git\\hooks: pre-receive.sample\n",
      "FILE INSIDE C:\\Users\\antho\\OneDrive\\Documenten\\Anthony-TM\\Scripting\\Scripting-Students-25-sem1\\.git\\hooks: prepare-commit-msg.sample\n",
      "FILE INSIDE C:\\Users\\antho\\OneDrive\\Documenten\\Anthony-TM\\Scripting\\Scripting-Students-25-sem1\\.git\\hooks: push-to-checkout.sample\n",
      "FILE INSIDE C:\\Users\\antho\\OneDrive\\Documenten\\Anthony-TM\\Scripting\\Scripting-Students-25-sem1\\.git\\hooks: sendemail-validate.sample\n",
      "FILE INSIDE C:\\Users\\antho\\OneDrive\\Documenten\\Anthony-TM\\Scripting\\Scripting-Students-25-sem1\\.git\\hooks: update.sample\n",
      "---------\n",
      "The current folder is C:\\Users\\antho\\OneDrive\\Documenten\\Anthony-TM\\Scripting\\Scripting-Students-25-sem1\\.git\\info\n",
      "FILE INSIDE C:\\Users\\antho\\OneDrive\\Documenten\\Anthony-TM\\Scripting\\Scripting-Students-25-sem1\\.git\\info: exclude\n",
      "---------\n",
      "The current folder is C:\\Users\\antho\\OneDrive\\Documenten\\Anthony-TM\\Scripting\\Scripting-Students-25-sem1\\.git\\logs\n",
      "SUBFOLDER OF C:\\Users\\antho\\OneDrive\\Documenten\\Anthony-TM\\Scripting\\Scripting-Students-25-sem1\\.git\\logs: refs\n",
      "FILE INSIDE C:\\Users\\antho\\OneDrive\\Documenten\\Anthony-TM\\Scripting\\Scripting-Students-25-sem1\\.git\\logs: HEAD\n",
      "---------\n",
      "The current folder is C:\\Users\\antho\\OneDrive\\Documenten\\Anthony-TM\\Scripting\\Scripting-Students-25-sem1\\.git\\logs\\refs\n",
      "SUBFOLDER OF C:\\Users\\antho\\OneDrive\\Documenten\\Anthony-TM\\Scripting\\Scripting-Students-25-sem1\\.git\\logs\\refs: heads\n",
      "SUBFOLDER OF C:\\Users\\antho\\OneDrive\\Documenten\\Anthony-TM\\Scripting\\Scripting-Students-25-sem1\\.git\\logs\\refs: remotes\n",
      "---------\n",
      "The current folder is C:\\Users\\antho\\OneDrive\\Documenten\\Anthony-TM\\Scripting\\Scripting-Students-25-sem1\\.git\\logs\\refs\\heads\n",
      "FILE INSIDE C:\\Users\\antho\\OneDrive\\Documenten\\Anthony-TM\\Scripting\\Scripting-Students-25-sem1\\.git\\logs\\refs\\heads: main\n",
      "---------\n",
      "The current folder is C:\\Users\\antho\\OneDrive\\Documenten\\Anthony-TM\\Scripting\\Scripting-Students-25-sem1\\.git\\logs\\refs\\remotes\n",
      "SUBFOLDER OF C:\\Users\\antho\\OneDrive\\Documenten\\Anthony-TM\\Scripting\\Scripting-Students-25-sem1\\.git\\logs\\refs\\remotes: origin\n",
      "---------\n",
      "The current folder is C:\\Users\\antho\\OneDrive\\Documenten\\Anthony-TM\\Scripting\\Scripting-Students-25-sem1\\.git\\logs\\refs\\remotes\\origin\n",
      "FILE INSIDE C:\\Users\\antho\\OneDrive\\Documenten\\Anthony-TM\\Scripting\\Scripting-Students-25-sem1\\.git\\logs\\refs\\remotes\\origin: HEAD\n",
      "FILE INSIDE C:\\Users\\antho\\OneDrive\\Documenten\\Anthony-TM\\Scripting\\Scripting-Students-25-sem1\\.git\\logs\\refs\\remotes\\origin: main\n",
      "---------\n",
      "The current folder is C:\\Users\\antho\\OneDrive\\Documenten\\Anthony-TM\\Scripting\\Scripting-Students-25-sem1\\.git\\objects\n",
      "SUBFOLDER OF C:\\Users\\antho\\OneDrive\\Documenten\\Anthony-TM\\Scripting\\Scripting-Students-25-sem1\\.git\\objects: 08\n",
      "SUBFOLDER OF C:\\Users\\antho\\OneDrive\\Documenten\\Anthony-TM\\Scripting\\Scripting-Students-25-sem1\\.git\\objects: 13\n",
      "SUBFOLDER OF C:\\Users\\antho\\OneDrive\\Documenten\\Anthony-TM\\Scripting\\Scripting-Students-25-sem1\\.git\\objects: 1e\n",
      "SUBFOLDER OF C:\\Users\\antho\\OneDrive\\Documenten\\Anthony-TM\\Scripting\\Scripting-Students-25-sem1\\.git\\objects: 2a\n",
      "SUBFOLDER OF C:\\Users\\antho\\OneDrive\\Documenten\\Anthony-TM\\Scripting\\Scripting-Students-25-sem1\\.git\\objects: 2c\n",
      "SUBFOLDER OF C:\\Users\\antho\\OneDrive\\Documenten\\Anthony-TM\\Scripting\\Scripting-Students-25-sem1\\.git\\objects: 3a\n",
      "SUBFOLDER OF C:\\Users\\antho\\OneDrive\\Documenten\\Anthony-TM\\Scripting\\Scripting-Students-25-sem1\\.git\\objects: 3b\n",
      "SUBFOLDER OF C:\\Users\\antho\\OneDrive\\Documenten\\Anthony-TM\\Scripting\\Scripting-Students-25-sem1\\.git\\objects: 4e\n",
      "SUBFOLDER OF C:\\Users\\antho\\OneDrive\\Documenten\\Anthony-TM\\Scripting\\Scripting-Students-25-sem1\\.git\\objects: 55\n",
      "SUBFOLDER OF C:\\Users\\antho\\OneDrive\\Documenten\\Anthony-TM\\Scripting\\Scripting-Students-25-sem1\\.git\\objects: 5c\n",
      "SUBFOLDER OF C:\\Users\\antho\\OneDrive\\Documenten\\Anthony-TM\\Scripting\\Scripting-Students-25-sem1\\.git\\objects: 5e\n",
      "SUBFOLDER OF C:\\Users\\antho\\OneDrive\\Documenten\\Anthony-TM\\Scripting\\Scripting-Students-25-sem1\\.git\\objects: 66\n",
      "SUBFOLDER OF C:\\Users\\antho\\OneDrive\\Documenten\\Anthony-TM\\Scripting\\Scripting-Students-25-sem1\\.git\\objects: 67\n",
      "SUBFOLDER OF C:\\Users\\antho\\OneDrive\\Documenten\\Anthony-TM\\Scripting\\Scripting-Students-25-sem1\\.git\\objects: 6c\n",
      "SUBFOLDER OF C:\\Users\\antho\\OneDrive\\Documenten\\Anthony-TM\\Scripting\\Scripting-Students-25-sem1\\.git\\objects: 88\n",
      "SUBFOLDER OF C:\\Users\\antho\\OneDrive\\Documenten\\Anthony-TM\\Scripting\\Scripting-Students-25-sem1\\.git\\objects: 8f\n",
      "SUBFOLDER OF C:\\Users\\antho\\OneDrive\\Documenten\\Anthony-TM\\Scripting\\Scripting-Students-25-sem1\\.git\\objects: a3\n",
      "SUBFOLDER OF C:\\Users\\antho\\OneDrive\\Documenten\\Anthony-TM\\Scripting\\Scripting-Students-25-sem1\\.git\\objects: a4\n",
      "SUBFOLDER OF C:\\Users\\antho\\OneDrive\\Documenten\\Anthony-TM\\Scripting\\Scripting-Students-25-sem1\\.git\\objects: d5\n",
      "SUBFOLDER OF C:\\Users\\antho\\OneDrive\\Documenten\\Anthony-TM\\Scripting\\Scripting-Students-25-sem1\\.git\\objects: d6\n",
      "SUBFOLDER OF C:\\Users\\antho\\OneDrive\\Documenten\\Anthony-TM\\Scripting\\Scripting-Students-25-sem1\\.git\\objects: d7\n",
      "SUBFOLDER OF C:\\Users\\antho\\OneDrive\\Documenten\\Anthony-TM\\Scripting\\Scripting-Students-25-sem1\\.git\\objects: df\n",
      "SUBFOLDER OF C:\\Users\\antho\\OneDrive\\Documenten\\Anthony-TM\\Scripting\\Scripting-Students-25-sem1\\.git\\objects: e2\n",
      "SUBFOLDER OF C:\\Users\\antho\\OneDrive\\Documenten\\Anthony-TM\\Scripting\\Scripting-Students-25-sem1\\.git\\objects: info\n",
      "SUBFOLDER OF C:\\Users\\antho\\OneDrive\\Documenten\\Anthony-TM\\Scripting\\Scripting-Students-25-sem1\\.git\\objects: pack\n",
      "---------\n",
      "The current folder is C:\\Users\\antho\\OneDrive\\Documenten\\Anthony-TM\\Scripting\\Scripting-Students-25-sem1\\.git\\objects\\08\n",
      "FILE INSIDE C:\\Users\\antho\\OneDrive\\Documenten\\Anthony-TM\\Scripting\\Scripting-Students-25-sem1\\.git\\objects\\08: a2f93a1aa6c0712ce4fa8ca1d91f4c5b23e646\n",
      "---------\n",
      "The current folder is C:\\Users\\antho\\OneDrive\\Documenten\\Anthony-TM\\Scripting\\Scripting-Students-25-sem1\\.git\\objects\\13\n",
      "FILE INSIDE C:\\Users\\antho\\OneDrive\\Documenten\\Anthony-TM\\Scripting\\Scripting-Students-25-sem1\\.git\\objects\\13: 03457d64196f25b070975d3dcd1f95a48e647c\n",
      "FILE INSIDE C:\\Users\\antho\\OneDrive\\Documenten\\Anthony-TM\\Scripting\\Scripting-Students-25-sem1\\.git\\objects\\13: 8efdf05c1c54f5d854c435ac943005dee7b78c\n",
      "---------\n",
      "The current folder is C:\\Users\\antho\\OneDrive\\Documenten\\Anthony-TM\\Scripting\\Scripting-Students-25-sem1\\.git\\objects\\1e\n",
      "FILE INSIDE C:\\Users\\antho\\OneDrive\\Documenten\\Anthony-TM\\Scripting\\Scripting-Students-25-sem1\\.git\\objects\\1e: 0018d874a1a3cb80e5ae07be1b8002729df152\n",
      "---------\n",
      "The current folder is C:\\Users\\antho\\OneDrive\\Documenten\\Anthony-TM\\Scripting\\Scripting-Students-25-sem1\\.git\\objects\\2a\n",
      "FILE INSIDE C:\\Users\\antho\\OneDrive\\Documenten\\Anthony-TM\\Scripting\\Scripting-Students-25-sem1\\.git\\objects\\2a: 45a4179595444db2ad070d581fc6da53f6c622\n",
      "---------\n",
      "The current folder is C:\\Users\\antho\\OneDrive\\Documenten\\Anthony-TM\\Scripting\\Scripting-Students-25-sem1\\.git\\objects\\2c\n",
      "FILE INSIDE C:\\Users\\antho\\OneDrive\\Documenten\\Anthony-TM\\Scripting\\Scripting-Students-25-sem1\\.git\\objects\\2c: 8354124eaf59a8622c97a1f0868e694ee8fdf1\n",
      "---------\n",
      "The current folder is C:\\Users\\antho\\OneDrive\\Documenten\\Anthony-TM\\Scripting\\Scripting-Students-25-sem1\\.git\\objects\\3a\n",
      "FILE INSIDE C:\\Users\\antho\\OneDrive\\Documenten\\Anthony-TM\\Scripting\\Scripting-Students-25-sem1\\.git\\objects\\3a: c032b07d3739bc2debab20c0e64854a6c6c957\n",
      "---------\n",
      "The current folder is C:\\Users\\antho\\OneDrive\\Documenten\\Anthony-TM\\Scripting\\Scripting-Students-25-sem1\\.git\\objects\\3b\n",
      "FILE INSIDE C:\\Users\\antho\\OneDrive\\Documenten\\Anthony-TM\\Scripting\\Scripting-Students-25-sem1\\.git\\objects\\3b: df15c840ded4865ccb0ba96b207e3dbf09c5ac\n",
      "---------\n",
      "The current folder is C:\\Users\\antho\\OneDrive\\Documenten\\Anthony-TM\\Scripting\\Scripting-Students-25-sem1\\.git\\objects\\4e\n",
      "FILE INSIDE C:\\Users\\antho\\OneDrive\\Documenten\\Anthony-TM\\Scripting\\Scripting-Students-25-sem1\\.git\\objects\\4e: 89428166e116eae06214bc5b68cdd98f3670f4\n",
      "---------\n",
      "The current folder is C:\\Users\\antho\\OneDrive\\Documenten\\Anthony-TM\\Scripting\\Scripting-Students-25-sem1\\.git\\objects\\55\n",
      "FILE INSIDE C:\\Users\\antho\\OneDrive\\Documenten\\Anthony-TM\\Scripting\\Scripting-Students-25-sem1\\.git\\objects\\55: f8212a7ee36cbd15dad7591ebda2743b6a5bf5\n",
      "---------\n",
      "The current folder is C:\\Users\\antho\\OneDrive\\Documenten\\Anthony-TM\\Scripting\\Scripting-Students-25-sem1\\.git\\objects\\5c\n",
      "FILE INSIDE C:\\Users\\antho\\OneDrive\\Documenten\\Anthony-TM\\Scripting\\Scripting-Students-25-sem1\\.git\\objects\\5c: 409513a60cd1d63b3d53654180b74bf32fc890\n",
      "---------\n",
      "The current folder is C:\\Users\\antho\\OneDrive\\Documenten\\Anthony-TM\\Scripting\\Scripting-Students-25-sem1\\.git\\objects\\5e\n",
      "FILE INSIDE C:\\Users\\antho\\OneDrive\\Documenten\\Anthony-TM\\Scripting\\Scripting-Students-25-sem1\\.git\\objects\\5e: 03636bec387058d48388ff44e1e95b3d3256b9\n",
      "---------\n",
      "The current folder is C:\\Users\\antho\\OneDrive\\Documenten\\Anthony-TM\\Scripting\\Scripting-Students-25-sem1\\.git\\objects\\66\n",
      "FILE INSIDE C:\\Users\\antho\\OneDrive\\Documenten\\Anthony-TM\\Scripting\\Scripting-Students-25-sem1\\.git\\objects\\66: 0f8ba2596319f2fdd0f163d67c24c74c0c8620\n",
      "---------\n",
      "The current folder is C:\\Users\\antho\\OneDrive\\Documenten\\Anthony-TM\\Scripting\\Scripting-Students-25-sem1\\.git\\objects\\67\n",
      "FILE INSIDE C:\\Users\\antho\\OneDrive\\Documenten\\Anthony-TM\\Scripting\\Scripting-Students-25-sem1\\.git\\objects\\67: 60e7e1c658622b5c07d93ffefeb5e117f385ef\n",
      "---------\n",
      "The current folder is C:\\Users\\antho\\OneDrive\\Documenten\\Anthony-TM\\Scripting\\Scripting-Students-25-sem1\\.git\\objects\\6c\n",
      "FILE INSIDE C:\\Users\\antho\\OneDrive\\Documenten\\Anthony-TM\\Scripting\\Scripting-Students-25-sem1\\.git\\objects\\6c: 070479c0ce6d109c7b77374aef8fca1bb3adc0\n",
      "---------\n",
      "The current folder is C:\\Users\\antho\\OneDrive\\Documenten\\Anthony-TM\\Scripting\\Scripting-Students-25-sem1\\.git\\objects\\88\n",
      "FILE INSIDE C:\\Users\\antho\\OneDrive\\Documenten\\Anthony-TM\\Scripting\\Scripting-Students-25-sem1\\.git\\objects\\88: bd28224f2911b3daf48d7dc0ffac29def9be89\n",
      "---------\n",
      "The current folder is C:\\Users\\antho\\OneDrive\\Documenten\\Anthony-TM\\Scripting\\Scripting-Students-25-sem1\\.git\\objects\\8f\n",
      "FILE INSIDE C:\\Users\\antho\\OneDrive\\Documenten\\Anthony-TM\\Scripting\\Scripting-Students-25-sem1\\.git\\objects\\8f: 3655d1a45747db1ba70131c66ff333c7700128\n",
      "---------\n",
      "The current folder is C:\\Users\\antho\\OneDrive\\Documenten\\Anthony-TM\\Scripting\\Scripting-Students-25-sem1\\.git\\objects\\a3\n",
      "FILE INSIDE C:\\Users\\antho\\OneDrive\\Documenten\\Anthony-TM\\Scripting\\Scripting-Students-25-sem1\\.git\\objects\\a3: 5cf1e08b571b4fd3654f66fce0512606400746\n",
      "---------\n",
      "The current folder is C:\\Users\\antho\\OneDrive\\Documenten\\Anthony-TM\\Scripting\\Scripting-Students-25-sem1\\.git\\objects\\a4\n",
      "FILE INSIDE C:\\Users\\antho\\OneDrive\\Documenten\\Anthony-TM\\Scripting\\Scripting-Students-25-sem1\\.git\\objects\\a4: 3523c755cfbde5318e8104b75ff88cbdafa237\n",
      "---------\n",
      "The current folder is C:\\Users\\antho\\OneDrive\\Documenten\\Anthony-TM\\Scripting\\Scripting-Students-25-sem1\\.git\\objects\\d5\n",
      "FILE INSIDE C:\\Users\\antho\\OneDrive\\Documenten\\Anthony-TM\\Scripting\\Scripting-Students-25-sem1\\.git\\objects\\d5: c5a4f7ca3355668557a6e4383abb9df8f1177b\n",
      "---------\n",
      "The current folder is C:\\Users\\antho\\OneDrive\\Documenten\\Anthony-TM\\Scripting\\Scripting-Students-25-sem1\\.git\\objects\\d6\n",
      "FILE INSIDE C:\\Users\\antho\\OneDrive\\Documenten\\Anthony-TM\\Scripting\\Scripting-Students-25-sem1\\.git\\objects\\d6: ce4defbc264cc1449c84da0eaf1612d0bd92cc\n",
      "---------\n",
      "The current folder is C:\\Users\\antho\\OneDrive\\Documenten\\Anthony-TM\\Scripting\\Scripting-Students-25-sem1\\.git\\objects\\d7\n",
      "FILE INSIDE C:\\Users\\antho\\OneDrive\\Documenten\\Anthony-TM\\Scripting\\Scripting-Students-25-sem1\\.git\\objects\\d7: d27bbc9993b0ae74d7547d94fd0715e547a8d0\n",
      "---------\n",
      "The current folder is C:\\Users\\antho\\OneDrive\\Documenten\\Anthony-TM\\Scripting\\Scripting-Students-25-sem1\\.git\\objects\\df\n",
      "FILE INSIDE C:\\Users\\antho\\OneDrive\\Documenten\\Anthony-TM\\Scripting\\Scripting-Students-25-sem1\\.git\\objects\\df: e0770424b2a19faf507a501ebfc23be8f54e7b\n",
      "---------\n",
      "The current folder is C:\\Users\\antho\\OneDrive\\Documenten\\Anthony-TM\\Scripting\\Scripting-Students-25-sem1\\.git\\objects\\e2\n",
      "FILE INSIDE C:\\Users\\antho\\OneDrive\\Documenten\\Anthony-TM\\Scripting\\Scripting-Students-25-sem1\\.git\\objects\\e2: c353787e515ae0496c4d0e520aa14043a5eae6\n",
      "---------\n",
      "The current folder is C:\\Users\\antho\\OneDrive\\Documenten\\Anthony-TM\\Scripting\\Scripting-Students-25-sem1\\.git\\objects\\info\n",
      "---------\n",
      "The current folder is C:\\Users\\antho\\OneDrive\\Documenten\\Anthony-TM\\Scripting\\Scripting-Students-25-sem1\\.git\\objects\\pack\n",
      "---------\n",
      "The current folder is C:\\Users\\antho\\OneDrive\\Documenten\\Anthony-TM\\Scripting\\Scripting-Students-25-sem1\\.git\\refs\n",
      "SUBFOLDER OF C:\\Users\\antho\\OneDrive\\Documenten\\Anthony-TM\\Scripting\\Scripting-Students-25-sem1\\.git\\refs: heads\n",
      "SUBFOLDER OF C:\\Users\\antho\\OneDrive\\Documenten\\Anthony-TM\\Scripting\\Scripting-Students-25-sem1\\.git\\refs: remotes\n",
      "SUBFOLDER OF C:\\Users\\antho\\OneDrive\\Documenten\\Anthony-TM\\Scripting\\Scripting-Students-25-sem1\\.git\\refs: tags\n",
      "---------\n",
      "The current folder is C:\\Users\\antho\\OneDrive\\Documenten\\Anthony-TM\\Scripting\\Scripting-Students-25-sem1\\.git\\refs\\heads\n",
      "FILE INSIDE C:\\Users\\antho\\OneDrive\\Documenten\\Anthony-TM\\Scripting\\Scripting-Students-25-sem1\\.git\\refs\\heads: main\n",
      "---------\n",
      "The current folder is C:\\Users\\antho\\OneDrive\\Documenten\\Anthony-TM\\Scripting\\Scripting-Students-25-sem1\\.git\\refs\\remotes\n",
      "SUBFOLDER OF C:\\Users\\antho\\OneDrive\\Documenten\\Anthony-TM\\Scripting\\Scripting-Students-25-sem1\\.git\\refs\\remotes: origin\n",
      "---------\n",
      "The current folder is C:\\Users\\antho\\OneDrive\\Documenten\\Anthony-TM\\Scripting\\Scripting-Students-25-sem1\\.git\\refs\\remotes\\origin\n",
      "FILE INSIDE C:\\Users\\antho\\OneDrive\\Documenten\\Anthony-TM\\Scripting\\Scripting-Students-25-sem1\\.git\\refs\\remotes\\origin: HEAD\n",
      "FILE INSIDE C:\\Users\\antho\\OneDrive\\Documenten\\Anthony-TM\\Scripting\\Scripting-Students-25-sem1\\.git\\refs\\remotes\\origin: main\n",
      "---------\n",
      "The current folder is C:\\Users\\antho\\OneDrive\\Documenten\\Anthony-TM\\Scripting\\Scripting-Students-25-sem1\\.git\\refs\\tags\n",
      "---------\n",
      "The current folder is C:\\Users\\antho\\OneDrive\\Documenten\\Anthony-TM\\Scripting\\Scripting-Students-25-sem1\\Week01Basics\n",
      "FILE INSIDE C:\\Users\\antho\\OneDrive\\Documenten\\Anthony-TM\\Scripting\\Scripting-Students-25-sem1\\Week01Basics: 01PythonBasics.ipynb\n",
      "---------\n",
      "The current folder is C:\\Users\\antho\\OneDrive\\Documenten\\Anthony-TM\\Scripting\\Scripting-Students-25-sem1\\Week02Basics\n",
      "FILE INSIDE C:\\Users\\antho\\OneDrive\\Documenten\\Anthony-TM\\Scripting\\Scripting-Students-25-sem1\\Week02Basics: PythonBasics02.ipynb\n",
      "---------\n",
      "The current folder is C:\\Users\\antho\\OneDrive\\Documenten\\Anthony-TM\\Scripting\\Scripting-Students-25-sem1\\Week03Basics\n",
      "FILE INSIDE C:\\Users\\antho\\OneDrive\\Documenten\\Anthony-TM\\Scripting\\Scripting-Students-25-sem1\\Week03Basics: TEST.py\n",
      "FILE INSIDE C:\\Users\\antho\\OneDrive\\Documenten\\Anthony-TM\\Scripting\\Scripting-Students-25-sem1\\Week03Basics: Week03Basics.ipynb\n",
      "---------\n",
      "The current folder is C:\\Users\\antho\\OneDrive\\Documenten\\Anthony-TM\\Scripting\\Scripting-Students-25-sem1\\Week04StringAndRegex\n",
      "FILE INSIDE C:\\Users\\antho\\OneDrive\\Documenten\\Anthony-TM\\Scripting\\Scripting-Students-25-sem1\\Week04StringAndRegex: Week04StringAndRegex.ipynb\n",
      "---------\n",
      "The current folder is C:\\Users\\antho\\OneDrive\\Documenten\\Anthony-TM\\Scripting\\Scripting-Students-25-sem1\\Week05Files\n",
      "FILE INSIDE C:\\Users\\antho\\OneDrive\\Documenten\\Anthony-TM\\Scripting\\Scripting-Students-25-sem1\\Week05Files: e-mail.txt\n",
      "FILE INSIDE C:\\Users\\antho\\OneDrive\\Documenten\\Anthony-TM\\Scripting\\Scripting-Students-25-sem1\\Week05Files: Files.ipynb\n",
      "---------\n"
     ]
    }
   ],
   "source": [
    "import os\n",
    "from pathlib import Path\n",
    "\n",
    "path_ = r\"C:\\Users\\antho\\OneDrive\\Documenten\\Anthony-TM\\Scripting\\Scripting-Students-25-sem1\"\n",
    "#os.chdir(Path.home()) --> another way of changing directory\n",
    "\n",
    "for folderName, subfolders, filenames in os.walk(path_):\n",
    "    print(f\"The current folder is {folderName}\")\n",
    "\n",
    "    for subfolder in subfolders:\n",
    "        print(f\"SUBFOLDER OF {folderName}: {subfolder}\")\n",
    "\n",
    "    for filename in filenames:\n",
    "        print(f\"FILE INSIDE {folderName}: {filename}\")\n",
    "\n",
    "    print(\"---------\")\n"
   ]
  },
  {
   "cell_type": "code",
   "execution_count": 31,
   "id": "67d762c7",
   "metadata": {},
   "outputs": [
    {
     "name": "stdout",
     "output_type": "stream",
     "text": [
      "C:\\Users\\antho\\OneDrive\\Documenten\\Anthony-TM\\Scripting\\Scripting-Students-25-sem1\\Week05Files\\e-mail.txt\n",
      "C:\\Users\\antho\\OneDrive\\Documenten\\Anthony-TM\\Scripting\\Scripting-Students-25-sem1\\Week05Files\\test.txt\n",
      "C:\\Users\\antho\\OneDrive\\Documenten\\Anthony-TM\\Scripting\\Scripting-Students-25-sem1\\Week05Files\\test2348xyz.txt\n",
      "\n",
      "C:\\Users\\antho\\OneDrive\\Documenten\\Anthony-TM\\Scripting\\Scripting-Students-25-sem1\\Week05Files\\test2348xyz.txt\n"
     ]
    }
   ],
   "source": [
    "#print and search a file in a specific path\n",
    "from pathlib import Path\n",
    "path_string = r\"C:\\Users\\antho\\OneDrive\\Documenten\\Anthony-TM\\Scripting\\Scripting-Students-25-sem1\\Week05Files\"\n",
    "path_object = Path(path_string)\n",
    "\n",
    "for file in path_object.glob(\"*.txt\"):\n",
    "    print(file)\n",
    "\n",
    "print()\n",
    "for file in path_object.glob(\"*[0-9]*\"):\n",
    "    print(file)"
   ]
  },
  {
   "cell_type": "markdown",
   "id": "4b494f98",
   "metadata": {},
   "source": [
    "## WRITING FILES"
   ]
  },
  {
   "cell_type": "code",
   "execution_count": 2,
   "id": "1d199d11",
   "metadata": {},
   "outputs": [
    {
     "name": "stdout",
     "output_type": "stream",
     "text": [
      "c:\\Users\\antho\\OneDrive\\Documenten\\Anthony-TM\\Scripting\\Scripting-Students-25-sem1\\Week05Files\n"
     ]
    }
   ],
   "source": [
    "import os\n",
    "from pathlib import Path\n",
    "\n",
    "print(os.getcwd())\n",
    "#IF YOU ARE IN THE WRONG LOCATION\n",
    "#--> os.chdir(r\"...\")\n",
    "\n",
    "#creating an writing\n",
    "file = open(\"boring.txt\", \"w\")\n",
    "file.write(\"test\")\n",
    "file.write(\"some more\")\n",
    "file.write(\"\\nMORE TESTING\")\n",
    "file.close()\n",
    "\n",
    "#file = open(\"test.txt\", \"w\")\n",
    "#file.write(\"check to see if anything new appears\")\n",
    "#file.close()\n",
    "\n",
    "file = open(\"test.txt\", \"a\")\n",
    "file.write(\"\\n SECOND TEXT! check to see if anything new appears\")\n",
    "file.close()"
   ]
  },
  {
   "cell_type": "markdown",
   "id": "c0a4fc3c",
   "metadata": {},
   "source": [
    "# reading files"
   ]
  },
  {
   "cell_type": "code",
   "execution_count": 14,
   "id": "43940edf",
   "metadata": {},
   "outputs": [
    {
     "name": "stdout",
     "output_type": "stream",
     "text": [
      "check to see if anything new appears\n",
      " SECOND TEXT! check to see if anything new appears\n",
      " TÃ¼rkiye\n",
      " Ã©lÃ¨ve\n",
      " beÃ¯ndigen\n",
      "check to see if anything new appears\n",
      " SECOND TEXT! check to see if anything new appears\n",
      " TÃ¼rkiye\n",
      " Ã©lÃ¨ve\n",
      " beÃ¯ndigen\n",
      "check to see if anything new appears\n",
      " SECOND TEXT! check to see if anything new appears\n",
      " Türkiye\n",
      " élève\n",
      " beïndigen\n"
     ]
    }
   ],
   "source": [
    "import os\n",
    "from pathlib import Path\n",
    "\n",
    "#way 1\n",
    "file = open(\"test.txt\", \"r\")\n",
    "print(file.read())\n",
    "file.close()\n",
    "\n",
    "#way 2\n",
    "with open(\"test.txt\", \"r\") as file:\n",
    "    print(file.read())\n",
    "\n",
    "#encoding problems? trouble reading a file?\n",
    "file = open(\"test.txt\", \"r\", encoding=\"UTF-8\")\n",
    "print(file.read())\n",
    "file.close()\n"
   ]
  },
  {
   "cell_type": "markdown",
   "id": "ec7e9973",
   "metadata": {},
   "source": [
    "# Reading emails from the file\n",
    "checking if the emails are valid with --> validate_email()"
   ]
  },
  {
   "cell_type": "code",
   "execution_count": 17,
   "id": "8cbffdd2",
   "metadata": {},
   "outputs": [
    {
     "name": "stdout",
     "output_type": "stream",
     "text": [
      "example@example.com --> True\n",
      "example@sub.domain.com --> True\n",
      "example-123@sub.domain.com --> True\n",
      "example123@sub.domain.com --> True\n",
      "example_123@sub.domain.com --> True\n",
      "example@sub-domain.com --> True\n",
      "example@sub.domain --> True\n",
      "example@sub. --> False\n",
      "example@sub..com --> True\n",
      "example@sub.domain.c --> True\n",
      "example@sub-.domain.com --> True\n",
      "example@sub_.domain.com --> True\n",
      "example@sub.domain-.com --> True\n",
      "example@sub.domain_.com --> True\n"
     ]
    }
   ],
   "source": [
    "with open(\"e-mail.txt\", \"r\") as file:\n",
    "    for line in file.readlines():\n",
    "        parts = line.split(\";\")\n",
    "        print(f\"{parts[0]} --> {validate_email(parts[0])}\")"
   ]
  },
  {
   "cell_type": "markdown",
   "id": "a014940c",
   "metadata": {},
   "source": [
    "## organizing files\n",
    "create a dir, deleting files, copying, moving, delete"
   ]
  },
  {
   "cell_type": "code",
   "execution_count": 18,
   "id": "4d3ad594",
   "metadata": {},
   "outputs": [
    {
     "name": "stdout",
     "output_type": "stream",
     "text": [
      "Defaulting to user installation because normal site-packages is not writeable\n",
      "Collecting Send2Trash\n",
      "  Downloading Send2Trash-1.8.3-py3-none-any.whl.metadata (4.0 kB)\n",
      "Downloading Send2Trash-1.8.3-py3-none-any.whl (18 kB)\n",
      "Installing collected packages: Send2Trash\n",
      "Successfully installed Send2Trash-1.8.3\n"
     ]
    }
   ],
   "source": [
    "! pip install Send2Trash"
   ]
  },
  {
   "cell_type": "code",
   "execution_count": null,
   "id": "8ed10c12",
   "metadata": {},
   "outputs": [],
   "source": [
    "import shutil, os, send2trash\n",
    "#os.mkdir(\"folder\") --> as soon as you run this 1 time, it exists, can't keep running it\n",
    "shutil.copy(\"test.txt\", \"folder\")\n",
    "#shutil.move(\"boring.txt\", \"folder/test.txt\") #move can go from a file to a new position\n",
    "#or move can overwrite existing content of another file\n",
    "\n",
    "#shutil.rmtree(\"folder\") --> we should really use a safe delete! THIS IS NOT SAFE\n",
    "\n",
    "file = open(\"testTEST.txt\", \"w\")\n",
    "file.close()\n",
    "\n",
    "send2trash.send2trash(\"testTEST.txt\")"
   ]
  }
 ],
 "metadata": {
  "kernelspec": {
   "display_name": "Python 3",
   "language": "python",
   "name": "python3"
  },
  "language_info": {
   "codemirror_mode": {
    "name": "ipython",
    "version": 3
   },
   "file_extension": ".py",
   "mimetype": "text/x-python",
   "name": "python",
   "nbconvert_exporter": "python",
   "pygments_lexer": "ipython3",
   "version": "3.13.9"
  }
 },
 "nbformat": 4,
 "nbformat_minor": 5
}
