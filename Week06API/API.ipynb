{
 "cells": [
  {
   "cell_type": "markdown",
   "id": "0f49f000",
   "metadata": {},
   "source": [
    "# Week 6 -> API's\n",
    "<b>play around with some api's</b>\n",
    "First look at some JSON code    "
   ]
  },
  {
   "cell_type": "markdown",
   "id": "616e6ac2",
   "metadata": {},
   "source": [
    "Differences between JSON and XML:\n",
    "- JSON: text based file format used for mainly storing and transmitting data. Usually this happens between a client (user) and a webserver (location of api) --> the standard format for data transfers nowadays\n",
    "- XML: Extensible markup language --> purely text based to structure your text. Very similar to HTML and works with tags to navigate its structure. More complex though.\n",
    "\n",
    "https://codebeautify.org/jsonviewer\n",
    "We use a beautifier to check for tree structures"
   ]
  },
  {
   "cell_type": "code",
   "execution_count": null,
   "id": "ba5d2ba7",
   "metadata": {},
   "outputs": [
    {
     "name": "stdout",
     "output_type": "stream",
     "text": [
      "Anthony\n",
      "\n",
      "Addy Osmani\n",
      "{'books': [{'isbn': '9781593275846', 'title': 'Eloquent JavaScript, Second Edition', 'subtitle': 'A Modern Introduction to Programming', 'author': 'Marijn Haverbeke', 'published': '2014-12-14T00:00:00.000Z', 'publisher': 'No Starch Press', 'pages': 472, 'description': 'JavaScript lies at the heart of almost every modern web application, from social apps to the newest browser-based games. Though simple for beginners to pick up and play with, JavaScript is a flexible, complex language that you can use to build full-scale applications.', 'website': 'http://eloquentjavascript.net/'}, {'isbn': '9781449331818', 'title': 'Learning JavaScript Design Patterns', 'subtitle': \"A JavaScript and jQuery Developer's Guide\", 'author': 'Addy Osmani', 'published': '2012-07-01T00:00:00.000Z', 'publisher': \"O'Reilly Media\", 'pages': 254, 'description': \"With Learning JavaScript Design Patterns, you'll learn how to write beautiful, structured, and maintainable JavaScript by applying classical and modern design patterns to the language. If you want to keep your code efficient, more manageable, and up-to-date with the latest best practices, this book is for you.\", 'website': 'http://www.addyosmani.com/resources/essentialjsdesignpatterns/book/'}, {'isbn': '9781449365035', 'title': 'Speaking JavaScript', 'subtitle': 'An In-Depth Guide for Programmers', 'author': 'Axel Rauschmayer', 'published': '2014-02-01T00:00:00.000Z', 'publisher': \"O'Reilly Media\", 'pages': 460, 'description': 'Like it or not, JavaScript is everywhere these days-from browser to server to mobile-and now you, too, need to learn the language or dive deeper than you have. This concise book guides you into and through JavaScript, written by a veteran programmer who once found himself in the same position.', 'website': 'http://speakingjs.com/'}, {'isbn': '9781491950296', 'title': 'Programming JavaScript Applications', 'subtitle': 'Robust Web Architecture with Node, HTML5, and Modern JS Libraries', 'author': 'Eric Elliott', 'published': '2014-07-01T00:00:00.000Z', 'publisher': \"O'Reilly Media\", 'pages': 254, 'description': \"Take advantage of JavaScript's power to build robust web-scale or enterprise applications that are easy to extend and maintain. By applying the design patterns outlined in this practical book, experienced JavaScript developers will learn how to write flexible and resilient code that's easier-yes, easier-to work with as your code base grows.\", 'website': 'http://chimera.labs.oreilly.com/books/1234000000262/index.html'}, {'isbn': '9781593277574', 'title': 'Understanding ECMAScript 6', 'subtitle': 'The Definitive Guide for JavaScript Developers', 'author': 'Nicholas C. Zakas', 'published': '2016-09-03T00:00:00.000Z', 'publisher': 'No Starch Press', 'pages': 352, 'description': 'ECMAScript 6 represents the biggest update to the core of JavaScript in the history of the language. In Understanding ECMAScript 6, expert developer Nicholas C. Zakas provides a complete guide to the object types, syntax, and other exciting changes that ECMAScript 6 brings to JavaScript.', 'website': 'https://leanpub.com/understandinges6/read'}, {'isbn': '9781491904244', 'title': \"You Don't Know JS\", 'subtitle': 'ES6 & Beyond', 'author': 'Kyle Simpson', 'published': '2015-12-27T00:00:00.000Z', 'publisher': \"O'Reilly Media\", 'pages': 278, 'description': 'No matter how much experience you have with JavaScript, odds are you donâ€™t fully understand the language. As part of the \"You Donâ€™t Know JS\" series, this compact guide focuses on new features available in ECMAScript 6 (ES6), the latest version of the standard upon which JavaScript is built.', 'website': 'https://github.com/getify/You-Dont-Know-JS/tree/master/es6%20&%20beyond'}, {'isbn': '9781449325862', 'title': 'Git Pocket Guide', 'subtitle': 'A Working Introduction', 'author': 'Richard E. Silverman', 'published': '2013-08-02T00:00:00.000Z', 'publisher': \"O'Reilly Media\", 'pages': 234, 'description': 'This pocket guide is the perfect on-the-job companion to Git, the distributed version control system. It provides a compact, readable introduction to Git for new users, as well as a reference to common commands and procedures for those of you with Git experience.', 'website': 'http://chimera.labs.oreilly.com/books/1230000000561/index.html'}, {'isbn': '9781449337711', 'title': 'Designing Evolvable Web APIs with ASP.NET', 'subtitle': 'Harnessing the Power of the Web', 'author': 'Glenn Block, et al.', 'published': '2014-04-07T00:00:00.000Z', 'publisher': \"O'Reilly Media\", 'pages': 538, 'description': 'Design and build Web APIs for a broad range of clientsâ€”including browsers and mobile devicesâ€”that can adapt to change over time. This practical, hands-on guide takes you through the theory and tools you need to build evolvable HTTP services with Microsoftâ€™s ASP.NET Web API framework. In the process, youâ€™ll learn how design and implement a real-world Web API.', 'website': 'http://chimera.labs.oreilly.com/books/1234000001708/index.html'}]}\n",
      "472\n",
      "254\n",
      "460\n",
      "254\n",
      "352\n",
      "278\n",
      "234\n",
      "538\n"
     ]
    }
   ],
   "source": [
    "import json\n",
    "\n",
    "#example string of json\n",
    "json_data = '{\"name\" : \"Anthony\", \"age\" : \"30\", \"timeslot\" : \"late\", \"study\" : \"computer science\"}'\n",
    "\n",
    "data = json.loads(json_data)\n",
    "print(data[\"name\"])\n",
    "\n",
    "json_file = open(\"books.json\",\"r\")\n",
    "data = json.loads(json_file.read())\n",
    "#data = json.loads(json_file)\n",
    "print()\n",
    "print(data[\"books\"][1][\"author\"])\n",
    "print(data) #everything from the json file\n",
    "\n",
    "for book in data[\"books\"]:\n",
    "    print(book[\"pages\"])\n",
    "\n",
    "json_file.close()\n"
   ]
  },
  {
   "cell_type": "code",
   "execution_count": null,
   "id": "06de7844",
   "metadata": {},
   "outputs": [
    {
     "name": "stdout",
     "output_type": "stream",
     "text": [
      "{'people': [{'name': 'Jason Derulo', 'age': '36'}, {'name': 'Jason Mamoa', 'age': '46'}, {'name': 'Jason Bourne', 'age': '38'}, {'name': 'Jason Statham', 'age': '58'}, {'name': 'Jennifer Aniston', 'age': '56'}, {'name': 'JLO', 'age': '56'}, {'name': 'Jennifer Lawrence', 'age': '35'}, {'name': 'Jason Depp', 'age': '62'}, {'name': 'Jason Bateman', 'age': '56'}]}\n"
     ]
    }
   ],
   "source": [
    "import json\n",
    "python_data = {}\n",
    "python_data['people'] = []\n",
    "\n",
    "python_data['people'].append({'name' : 'Jason Derulo', 'age' : '36'})\n",
    "python_data['people'].append({'name' : 'Jason Mamoa', 'age' : '46'})\n",
    "python_data['people'].append({'name' : 'Jason Bourne', 'age' : '38'})\n",
    "python_data['people'].append({'name' : 'Jason Statham', 'age' : '58'})\n",
    "python_data['people'].append({'name' : 'Jennifer Aniston', 'age' : '56'})\n",
    "python_data['people'].append({'name' : 'JLO', 'age' : '56'})\n",
    "python_data['people'].append({'name' : 'Jennifer Lawrence', 'age' : '35'})\n",
    "python_data['people'].append({'name' : 'Jason Depp', 'age' : '62'})\n",
    "python_data['people'].append({'name' : 'Jason Bateman', 'age' : '56'})\n",
    "\n",
    "json_file = open('jason.json', 'w')\n",
    "json_data = json.dump(python_data, json_file)\n",
    "json_file.close()\n",
    "\n",
    "print(python_data)\n"
   ]
  },
  {
   "cell_type": "markdown",
   "id": "bc3300eb",
   "metadata": {},
   "source": [
    "## Consuming API's\n",
    "Making a request --> library --> requests\n",
    "Make an account on rapidapi, just case --> some handy api's here\n",
    "API's:\n",
    "- Kanye.rest\n",
    "- dad jokes\n",
    "- love calculator\n",
    "- weather \n",
    "- poke API\n",
    "- text tanslator\n",
    "- random cat facts"
   ]
  },
  {
   "cell_type": "code",
   "execution_count": 11,
   "id": "edb75e27",
   "metadata": {},
   "outputs": [
    {
     "name": "stdout",
     "output_type": "stream",
     "text": [
      "Defaulting to user installation because normal site-packages is not writeable\n",
      "Collecting requests\n",
      "  Downloading requests-2.32.5-py3-none-any.whl.metadata (4.9 kB)\n",
      "Collecting charset_normalizer<4,>=2 (from requests)\n",
      "  Downloading charset_normalizer-3.4.4-cp313-cp313-win_amd64.whl.metadata (38 kB)\n",
      "Collecting idna<4,>=2.5 (from requests)\n",
      "  Downloading idna-3.11-py3-none-any.whl.metadata (8.4 kB)\n",
      "Collecting urllib3<3,>=1.21.1 (from requests)\n",
      "  Downloading urllib3-2.5.0-py3-none-any.whl.metadata (6.5 kB)\n",
      "Collecting certifi>=2017.4.17 (from requests)\n",
      "  Downloading certifi-2025.10.5-py3-none-any.whl.metadata (2.5 kB)\n",
      "Downloading requests-2.32.5-py3-none-any.whl (64 kB)\n",
      "Downloading charset_normalizer-3.4.4-cp313-cp313-win_amd64.whl (107 kB)\n",
      "Downloading idna-3.11-py3-none-any.whl (71 kB)\n",
      "Downloading urllib3-2.5.0-py3-none-any.whl (129 kB)\n",
      "Downloading certifi-2025.10.5-py3-none-any.whl (163 kB)\n",
      "Installing collected packages: urllib3, idna, charset_normalizer, certifi, requests\n",
      "\n",
      "   ---------------- ----------------------- 2/5 [charset_normalizer]\n",
      "   ---------------------------------------- 5/5 [requests]\n",
      "\n",
      "Successfully installed certifi-2025.10.5 charset_normalizer-3.4.4 idna-3.11 requests-2.32.5 urllib3-2.5.0\n"
     ]
    }
   ],
   "source": [
    "! pip install requests"
   ]
  },
  {
   "cell_type": "code",
   "execution_count": null,
   "id": "4341f1a1",
   "metadata": {},
   "outputs": [
    {
     "name": "stdout",
     "output_type": "stream",
     "text": [
      "The best quote from Kanye: I'm on the pursuit of awesomeness, excellence is the bare minimum.\n"
     ]
    }
   ],
   "source": [
    "import json, requests\n",
    "\n",
    "url = \"https://api.kanye.rest\"\n",
    "response = requests.get(url)\n",
    "\n",
    "#print(response.status_code) --> check if you have access to an api\n",
    "text = response.text\n",
    "#print(text)\n",
    "\n",
    "data = json.loads(text) #string load --> transform json data into a string that's workable in python\n",
    "print(f\"The best quote from Kanye: {data[\"quote\"]}\")"
   ]
  },
  {
   "cell_type": "code",
   "execution_count": 33,
   "id": "6e6c73a4",
   "metadata": {},
   "outputs": [
    {
     "name": "stdout",
     "output_type": "stream",
     "text": [
      "I'd avoid the sushi if I were you — it's a little fishy!\n"
     ]
    }
   ],
   "source": [
    "import http.client\n",
    "\n",
    "conn = http.client.HTTPSConnection(\"dad-jokes-by-api-ninjas.p.rapidapi.com\")\n",
    "\n",
    "headers = {\n",
    "    'x-rapidapi-key': \"fd6f435c07msh3de62319fcfa275p143e5cjsn4293d86a9f09\",\n",
    "    'x-rapidapi-host': \"dad-jokes-by-api-ninjas.p.rapidapi.com\"\n",
    "}\n",
    "\n",
    "conn.request(\"GET\", \"/v1/dadjokes\", headers=headers)\n",
    "\n",
    "res = conn.getresponse()\n",
    "data = res.read()\n",
    "\n",
    "data = json.loads(data)\n",
    "print(data[0][\"joke\"])"
   ]
  },
  {
   "cell_type": "code",
   "execution_count": null,
   "id": "8d0bf30f",
   "metadata": {},
   "outputs": [
    {
     "name": "stdout",
     "output_type": "stream",
     "text": [
      "Johnny Depp and Amber Heard have a connection because their love percentage is 67.913\n"
     ]
    }
   ],
   "source": [
    "import requests\n",
    "\n",
    "url = \"https://the-love-calculator.p.rapidapi.com/love-calculator\"\n",
    "\n",
    "fname = input(\"Give me a first name: \")\n",
    "sname = input(\"Give me a second name: \")\n",
    "\n",
    "querystring = {\"fname\":fname,\"sname\":sname}\n",
    "\n",
    "headers = {\n",
    "\t\"x-rapidapi-key\": \"fd6f435c07msh3de62319fcfa275p143e5cjsn4293d86a9f09\",\n",
    "\t\"x-rapidapi-host\": \"the-love-calculator.p.rapidapi.com\"\n",
    "}\n",
    "\n",
    "response = requests.get(url, headers=headers, params=querystring)\n",
    "text = response.text\n",
    "data = json.loads(text)\n",
    "\n",
    "print(f\"{fname} and {sname} have a connection because their love percentage is {data[\"percentage match: \"]}\")\n"
   ]
  }
 ],
 "metadata": {
  "kernelspec": {
   "display_name": "Python 3",
   "language": "python",
   "name": "python3"
  },
  "language_info": {
   "codemirror_mode": {
    "name": "ipython",
    "version": 3
   },
   "file_extension": ".py",
   "mimetype": "text/x-python",
   "name": "python",
   "nbconvert_exporter": "python",
   "pygments_lexer": "ipython3",
   "version": "3.13.9"
  }
 },
 "nbformat": 4,
 "nbformat_minor": 5
}
