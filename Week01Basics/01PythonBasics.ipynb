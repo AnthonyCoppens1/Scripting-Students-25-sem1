{
 "cells": [
  {
   "cell_type": "markdown",
   "id": "0bb721b7",
   "metadata": {},
   "source": [
    "# Python basics: class of week 1"
   ]
  },
  {
   "cell_type": "code",
   "execution_count": 1,
   "id": "bb7e9dc1",
   "metadata": {},
   "outputs": [
    {
     "name": "stdout",
     "output_type": "stream",
     "text": [
      "Hello, world!\n"
     ]
    }
   ],
   "source": [
    "print(\"Hello, world!\")"
   ]
  },
  {
   "cell_type": "markdown",
   "id": "4da85f67",
   "metadata": {},
   "source": [
    "## Input and output\n",
    "Conversion between types\n",
    "- int -> integer number / whole numbers\n",
    "- float -> decimal numbers\n",
    "- str -> string = text"
   ]
  },
  {
   "cell_type": "code",
   "execution_count": null,
   "id": "0bbb3100",
   "metadata": {},
   "outputs": [
    {
     "name": "stdout",
     "output_type": "stream",
     "text": [
      "15\n",
      "<class 'str'>\n",
      "value of x: 15\n",
      "15\n",
      "<class 'int'>\n",
      "15.0\n",
      "<class 'float'>\n",
      "15.0\n",
      "x is now of datatype: <class 'str'>\n"
     ]
    }
   ],
   "source": [
    "x = input(\"Give me a number: \")\n",
    "print(x)\n",
    "print(type(x))\n",
    "\n",
    "print(\"value of x:\", x)\n",
    "\n",
    "#Converting from one datatype to the other\n",
    "int_number = int(x)\n",
    "print(int_number)\n",
    "print(type(int_number))\n",
    "\n",
    "float_number = float(x)\n",
    "print(float_number)\n",
    "print(type(float_number))\n",
    "\n",
    "#going back to a string\n",
    "string_number = str(float_number)\n",
    "print(string_number)\n",
    "print(\"x is now of datatype:\", type(string_number))\n"
   ]
  },
  {
   "cell_type": "markdown",
   "id": "16f7969e",
   "metadata": {},
   "source": [
    "## combining outputs --> concatenation\n",
    "- '+' --> combining 2 strings or add 2 numbers together, can never add different datatypes with a +\n",
    "- ',' --> combining 2 different or the same datatype, automatically adds a space followed by either the next variable\n",
    "or information."
   ]
  },
  {
   "cell_type": "code",
   "execution_count": 11,
   "id": "4eb5d88c",
   "metadata": {},
   "outputs": [
    {
     "name": "stdout",
     "output_type": "stream",
     "text": [
      "The number is 5\n",
      "10\n",
      "55\n",
      "This is option 3 --> 10\n",
      "The number is 5\n"
     ]
    }
   ],
   "source": [
    "number = 5\n",
    "\n",
    "print(\"The number is\", number)\n",
    "\n",
    "print(number + number) #10\n",
    "print(str(number) + str(number)) #55\n",
    "print(\"This is option 3 -->\", str(number + number)) #10\n",
    "\n",
    "print(\"The number is \" + str(number))"
   ]
  },
  {
   "cell_type": "markdown",
   "id": "0301faea",
   "metadata": {},
   "source": [
    "## Expressions\n",
    "### Arithmetic operations"
   ]
  },
  {
   "cell_type": "code",
   "execution_count": null,
   "id": "84941f2b",
   "metadata": {},
   "outputs": [
    {
     "name": "stdout",
     "output_type": "stream",
     "text": [
      "15 8\n",
      "23\n",
      "String part 1 23 string part 2\n",
      "13\n",
      "7\n",
      "30\n",
      "3.3333333333333335\n",
      "1000\n",
      "1\n",
      "3\n"
     ]
    }
   ],
   "source": [
    "#mind the difference if you're checking your result in these types of operations\n",
    "x = 15\n",
    "y = 8\n",
    "\n",
    "print(x, y)\n",
    "print(x + y)\n",
    "\n",
    "#maybe one of the examples you might have to think about\n",
    "print(\"String part 1\", x + y, \"string part 2\")\n",
    "\n",
    "#changing multiple values at the same time\n",
    "x, y = 10,3\n",
    "\n",
    "print(x + y) #13\n",
    "print(x - y) #7\n",
    "print(x * y) #30\n",
    "print(x / y) #3.333333\n",
    "print(x**y) #1000\n",
    "\n",
    "print(x % y) #remainder after whole division -> 1\n",
    "print(x // y) #integer division (divide in equal groups of ... without adding the remainder)\n",
    "\n"
   ]
  },
  {
   "cell_type": "markdown",
   "id": "21939a92",
   "metadata": {},
   "source": [
    "### Assignment operators"
   ]
  },
  {
   "cell_type": "code",
   "execution_count": null,
   "id": "473fd144",
   "metadata": {},
   "outputs": [
    {
     "name": "stdout",
     "output_type": "stream",
     "text": [
      "13 <class 'int'>\n",
      "10 <class 'int'>\n",
      "30 <class 'int'>\n",
      "10.0 <class 'float'>\n",
      "3.0 <class 'float'>\n",
      "1000 <class 'int'>\n",
      "1001\n"
     ]
    }
   ],
   "source": [
    "x, y = 10, 3\n",
    "\n",
    "x += y; print(x, type(x)) #13 --> x = x + y\n",
    "x -= y; print(x, type(x)) #10 --> x has value of 13 from previous line\n",
    "x *= y; print(x, type(x)) #30 \n",
    "x /= y; print(x, type(x)) #10.0 --> division of integers will always result in a float\n",
    "x //= y; print(x, type(x)) #3.0\n",
    "\n",
    "x = 10\n",
    "x **= y; print(x, type(x)) #1000\n",
    "\n",
    "#x++ doesn't work here, x += 1 is the translation of x++\n",
    "x += 1 \n",
    "print(x)\n"
   ]
  },
  {
   "cell_type": "markdown",
   "id": "64fdbc13",
   "metadata": {},
   "source": [
    "### Comparison operators"
   ]
  },
  {
   "cell_type": "code",
   "execution_count": 32,
   "id": "99988998",
   "metadata": {},
   "outputs": [
    {
     "name": "stdout",
     "output_type": "stream",
     "text": [
      "False\n",
      "True\n",
      "False\n",
      "True\n",
      "False\n",
      "True\n"
     ]
    }
   ],
   "source": [
    "x, y = 10,3\n",
    "\n",
    "# < > <= >= == !=\n",
    "print(x < y)\n",
    "print(x > y)\n",
    "print(x <= y)\n",
    "print(x >= y)\n",
    "print(x == y)\n",
    "print(x != y)\n"
   ]
  },
  {
   "cell_type": "markdown",
   "id": "20e4b358",
   "metadata": {},
   "source": [
    "#### Built in string functions in Python\n",
    "https://www.w3schools.com/python/python_ref_string.asp\n"
   ]
  },
  {
   "cell_type": "code",
   "execution_count": 40,
   "id": "1bcc8097",
   "metadata": {},
   "outputs": [
    {
     "name": "stdout",
     "output_type": "stream",
     "text": [
      "Somex text\n",
      "SOMEX TEXT\n",
      "somex text\n",
      "som3 t3t\n",
      "5.12357289\n",
      "-5.1236\n"
     ]
    }
   ],
   "source": [
    "text = \"somex text\"\n",
    "\n",
    "print(text.capitalize())\n",
    "print(text.upper())\n",
    "print(text.lower())\n",
    "print(text.replace(\"ex\", \"3\")) #replaces all occurences of said character\n",
    "\n",
    "x = -5.12357289\n",
    "print(abs(x))\n",
    "print(round(x, 4))\n"
   ]
  },
  {
   "cell_type": "markdown",
   "id": "f6e05689",
   "metadata": {},
   "source": [
    "## Conditional statements\n",
    "if-structure!\n",
    "keep in mind zero is considered even\n",
    "doubly even number --> /2 and again /2\n",
    "0 is forever even --> can be /2 forever = whole number"
   ]
  },
  {
   "cell_type": "code",
   "execution_count": null,
   "id": "297e3b41",
   "metadata": {},
   "outputs": [
    {
     "name": "stdout",
     "output_type": "stream",
     "text": [
      "0 is zero\n"
     ]
    }
   ],
   "source": [
    "#find the sign of a specific number\n",
    "\n",
    "number = int(input(\"Enter a number: \"))\n",
    "if number > 0:\n",
    "    print(number, \"is positive\")\n",
    "elif number < 0:\n",
    "    print(number, \"is negative\")\n",
    "else:\n",
    "    print(number, \"is zero\")\n",
    "\n",
    "#other implementation\n",
    "if number == 0:\n",
    "    print(number, \"is zero\")\n",
    "elif number > 0:\n",
    "    print(number, \"is positive\")\n",
    "else:\n",
    "    print(number, \"is negative\")\n",
    "\n"
   ]
  },
  {
   "cell_type": "markdown",
   "id": "8de0e49a",
   "metadata": {},
   "source": [
    "### some exercises\n",
    "- Write a if-statement that checks if someone is old enough to vote using calculation with year of birth\n",
    "input: year of birth\n",
    "output: you're old enough to vote / NO VOTING FOR YOU MY FRIEND\n",
    "use datetime to calculate age\n",
    "\n",
    "- Write an if-statement that checks if a string is empty or not\n",
    "input: string\n",
    "output: string is empty / string is NOT empty\n",
    "\n",
    "- Werite an if-statement that checks if a password is secure. --> at least 8 characters and both letters and numbers\n",
    "input: password\n",
    "output: password is secure / NOT SECURE!"
   ]
  },
  {
   "cell_type": "code",
   "execution_count": null,
   "id": "2620abbc",
   "metadata": {},
   "outputs": [
    {
     "name": "stdout",
     "output_type": "stream",
     "text": [
      "you're old enough to vote\n"
     ]
    }
   ],
   "source": [
    "from datetime import datetime as dt\n",
    "year = int(input(\"Enter a year: \"))\n",
    "age = dt.now().year - year\n",
    "if age >= 18:\n",
    "    print(\"you're old enough to vote\")\n",
    "else:\n",
    "    print(\"NO VOTING FOR YOU MY FRIEND\")"
   ]
  },
  {
   "cell_type": "code",
   "execution_count": 47,
   "id": "fb1dabc7",
   "metadata": {},
   "outputs": [
    {
     "name": "stdout",
     "output_type": "stream",
     "text": [
      "The string is empty\n"
     ]
    }
   ],
   "source": [
    "stringToCheck = input(\"Enter a string: \")\n",
    "if not stringToCheck:\n",
    "    print(\"The string is empty\")\n",
    "else:\n",
    "    print(\"The string is not empty!\")"
   ]
  },
  {
   "cell_type": "code",
   "execution_count": null,
   "id": "ef2f5c3f",
   "metadata": {},
   "outputs": [],
   "source": [
    "passwordToCheck = input(\"Give me a password: \")\n",
    "if len(passwordToCheck) >= 8 and any(char.isalpha() for char in passwordToCheck) and any(char.isdigit() for char in passwordToCheck):\n"
   ]
  }
 ],
 "metadata": {
  "kernelspec": {
   "display_name": "Python 3",
   "language": "python",
   "name": "python3"
  },
  "language_info": {
   "codemirror_mode": {
    "name": "ipython",
    "version": 3
   },
   "file_extension": ".py",
   "mimetype": "text/x-python",
   "name": "python",
   "nbconvert_exporter": "python",
   "pygments_lexer": "ipython3",
   "version": "3.13.7"
  }
 },
 "nbformat": 4,
 "nbformat_minor": 5
}
