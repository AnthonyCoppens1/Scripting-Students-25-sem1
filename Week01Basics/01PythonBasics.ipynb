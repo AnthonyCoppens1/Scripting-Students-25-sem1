{
 "cells": [
  {
   "cell_type": "markdown",
   "id": "0bb721b7",
   "metadata": {},
   "source": [
    "# Python basics: class of week 1"
   ]
  },
  {
   "cell_type": "code",
   "execution_count": 1,
   "id": "bb7e9dc1",
   "metadata": {},
   "outputs": [
    {
     "name": "stdout",
     "output_type": "stream",
     "text": [
      "Hello, world!\n"
     ]
    }
   ],
   "source": [
    "print(\"Hello, world!\")"
   ]
  },
  {
   "cell_type": "markdown",
   "id": "4da85f67",
   "metadata": {},
   "source": [
    "## Input and output\n",
    "Conversion between types\n",
    "- int -> integer number / whole numbers\n",
    "- float -> decimal numbers\n",
    "- str -> string = text"
   ]
  },
  {
   "cell_type": "code",
   "execution_count": null,
   "id": "0bbb3100",
   "metadata": {},
   "outputs": [
    {
     "name": "stdout",
     "output_type": "stream",
     "text": [
      "15\n",
      "<class 'str'>\n",
      "value of x: 15\n",
      "15\n",
      "<class 'int'>\n",
      "15.0\n",
      "<class 'float'>\n",
      "15.0\n",
      "x is now of datatype: <class 'str'>\n"
     ]
    }
   ],
   "source": [
    "x = input(\"Give me a number: \")\n",
    "print(x)\n",
    "print(type(x))\n",
    "\n",
    "print(\"value of x:\", x)\n",
    "\n",
    "#Converting from one datatype to the other\n",
    "int_number = int(x)\n",
    "print(int_number)\n",
    "print(type(int_number))\n",
    "\n",
    "float_number = float(x)\n",
    "print(float_number)\n",
    "print(type(float_number))\n",
    "\n",
    "#going back to a string\n",
    "string_number = str(float_number)\n",
    "print(string_number)\n",
    "print(\"x is now of datatype:\", type(string_number))\n"
   ]
  },
  {
   "cell_type": "markdown",
   "id": "16f7969e",
   "metadata": {},
   "source": [
    "## combining outputs --> concatenation\n",
    "- '+' --> combining 2 strings or add 2 numbers together, can never add different datatypes with a +\n",
    "- ',' --> combining 2 different or the same datatype, automatically adds a space followed by either the next variable\n",
    "or information."
   ]
  },
  {
   "cell_type": "code",
   "execution_count": 11,
   "id": "4eb5d88c",
   "metadata": {},
   "outputs": [
    {
     "name": "stdout",
     "output_type": "stream",
     "text": [
      "The number is 5\n",
      "10\n",
      "55\n",
      "This is option 3 --> 10\n",
      "The number is 5\n"
     ]
    }
   ],
   "source": [
    "number = 5\n",
    "\n",
    "print(\"The number is\", number)\n",
    "\n",
    "print(number + number) #10\n",
    "print(str(number) + str(number)) #55\n",
    "print(\"This is option 3 -->\", str(number + number)) #10\n",
    "\n",
    "print(\"The number is \" + str(number))"
   ]
  },
  {
   "cell_type": "markdown",
   "id": "0301faea",
   "metadata": {},
   "source": [
    "## Expressions\n",
    "### Arithmetic operations"
   ]
  },
  {
   "cell_type": "code",
   "execution_count": null,
   "id": "84941f2b",
   "metadata": {},
   "outputs": [
    {
     "name": "stdout",
     "output_type": "stream",
     "text": [
      "15 8\n",
      "23\n",
      "String part 1 23 string part 2\n",
      "13\n",
      "7\n",
      "30\n",
      "3.3333333333333335\n",
      "1000\n",
      "1\n",
      "3\n"
     ]
    }
   ],
   "source": [
    "#mind the difference if you're checking your result in these types of operations\n",
    "x = 15\n",
    "y = 8\n",
    "\n",
    "print(x, y)\n",
    "print(x + y)\n",
    "\n",
    "#maybe one of the examples you might have to think about\n",
    "print(\"String part 1\", x + y, \"string part 2\")\n",
    "\n",
    "#changing multiple values at the same time\n",
    "x, y = 10,3\n",
    "\n",
    "print(x + y) #13\n",
    "print(x - y) #7\n",
    "print(x * y) #30\n",
    "print(x / y) #3.333333\n",
    "print(x**y) #1000\n",
    "\n",
    "print(x % y) #remainder after whole division -> 1\n",
    "print(x // y) #integer division (divide in equal groups of ... without adding the remainder)\n",
    "\n"
   ]
  },
  {
   "cell_type": "markdown",
   "id": "21939a92",
   "metadata": {},
   "source": [
    "### Assignment operators"
   ]
  },
  {
   "cell_type": "code",
   "execution_count": null,
   "id": "473fd144",
   "metadata": {},
   "outputs": [
    {
     "name": "stdout",
     "output_type": "stream",
     "text": [
      "13 <class 'int'>\n",
      "10 <class 'int'>\n",
      "30 <class 'int'>\n",
      "10.0 <class 'float'>\n",
      "3.0 <class 'float'>\n",
      "1000 <class 'int'>\n",
      "1001\n"
     ]
    }
   ],
   "source": [
    "x, y = 10, 3\n",
    "\n",
    "x += y; print(x, type(x)) #13 --> x = x + y\n",
    "x -= y; print(x, type(x)) #10 --> x has value of 13 from previous line\n",
    "x *= y; print(x, type(x)) #30 \n",
    "x /= y; print(x, type(x)) #10.0 --> division of integers will always result in a float\n",
    "x //= y; print(x, type(x)) #3.0\n",
    "\n",
    "x = 10\n",
    "x **= y; print(x, type(x)) #1000\n",
    "\n",
    "#x++ doesn't work here, x += 1 is the translation of x++\n",
    "x += 1 \n",
    "print(x)\n"
   ]
  },
  {
   "cell_type": "markdown",
   "id": "64fdbc13",
   "metadata": {},
   "source": [
    "### Comparison operators"
   ]
  },
  {
   "cell_type": "code",
   "execution_count": 32,
   "id": "99988998",
   "metadata": {},
   "outputs": [
    {
     "name": "stdout",
     "output_type": "stream",
     "text": [
      "False\n",
      "True\n",
      "False\n",
      "True\n",
      "False\n",
      "True\n"
     ]
    }
   ],
   "source": [
    "x, y = 10,3\n",
    "\n",
    "# < > <= >= == !=\n",
    "print(x < y)\n",
    "print(x > y)\n",
    "print(x <= y)\n",
    "print(x >= y)\n",
    "print(x == y)\n",
    "print(x != y)\n"
   ]
  },
  {
   "cell_type": "markdown",
   "id": "20e4b358",
   "metadata": {},
   "source": [
    "#### Built in string functions in Python\n",
    "https://www.w3schools.com/python/python_ref_string.asp\n"
   ]
  },
  {
   "cell_type": "code",
   "execution_count": 40,
   "id": "1bcc8097",
   "metadata": {},
   "outputs": [
    {
     "name": "stdout",
     "output_type": "stream",
     "text": [
      "Somex text\n",
      "SOMEX TEXT\n",
      "somex text\n",
      "som3 t3t\n",
      "5.12357289\n",
      "-5.1236\n"
     ]
    }
   ],
   "source": [
    "text = \"somex text\"\n",
    "\n",
    "print(text.capitalize())\n",
    "print(text.upper())\n",
    "print(text.lower())\n",
    "print(text.replace(\"ex\", \"3\")) #replaces all occurences of said character\n",
    "\n",
    "x = -5.12357289\n",
    "print(abs(x))\n",
    "print(round(x, 4))\n"
   ]
  },
  {
   "cell_type": "markdown",
   "id": "f6e05689",
   "metadata": {},
   "source": [
    "## Conditional statements\n",
    "if-structure!\n",
    "keep in mind zero is considered even\n",
    "doubly even number --> /2 and again /2\n",
    "0 is forever even --> can be /2 forever = whole number"
   ]
  },
  {
   "cell_type": "code",
   "execution_count": null,
   "id": "297e3b41",
   "metadata": {},
   "outputs": [
    {
     "name": "stdout",
     "output_type": "stream",
     "text": [
      "0 is zero\n"
     ]
    }
   ],
   "source": [
    "#find the sign of a specific number\n",
    "\n",
    "number = int(input(\"Enter a number: \"))\n",
    "if number > 0:\n",
    "    print(number, \"is positive\")\n",
    "elif number < 0:\n",
    "    print(number, \"is negative\")\n",
    "else:\n",
    "    print(number, \"is zero\")\n",
    "\n",
    "#other implementation\n",
    "if number == 0:\n",
    "    print(number, \"is zero\")\n",
    "elif number > 0:\n",
    "    print(number, \"is positive\")\n",
    "else:\n",
    "    print(number, \"is negative\")\n",
    "\n"
   ]
  },
  {
   "cell_type": "markdown",
   "id": "8de0e49a",
   "metadata": {},
   "source": [
    "### some exercises\n",
    "- Write a if-statement that checks if someone is old enough to vote using calculation with year of birth\n",
    "input: year of birth\n",
    "output: you're old enough to vote / NO VOTING FOR YOU MY FRIEND\n",
    "use datetime to calculate age\n",
    "\n",
    "- Write an if-statement that checks if a string is empty or not\n",
    "input: string\n",
    "output: string is empty / string is NOT empty\n",
    "\n",
    "- Werite an if-statement that checks if a password is secure. --> at least 8 characters and both letters and numbers\n",
    "input: password\n",
    "output: password is secure / NOT SECURE!"
   ]
  },
  {
   "cell_type": "code",
   "execution_count": null,
   "id": "2620abbc",
   "metadata": {},
   "outputs": [
    {
     "name": "stdout",
     "output_type": "stream",
     "text": [
      "you're old enough to vote\n"
     ]
    }
   ],
   "source": [
    "from datetime import datetime as dt\n",
    "year = int(input(\"Enter a year: \"))\n",
    "age = dt.now().year - year\n",
    "if age >= 18:\n",
    "    print(\"you're old enough to vote\")\n",
    "else:\n",
    "    print(\"NO VOTING FOR YOU MY FRIEND\")"
   ]
  },
  {
   "cell_type": "code",
   "execution_count": 47,
   "id": "fb1dabc7",
   "metadata": {},
   "outputs": [
    {
     "name": "stdout",
     "output_type": "stream",
     "text": [
      "The string is empty\n"
     ]
    }
   ],
   "source": [
    "stringToCheck = input(\"Enter a string: \")\n",
    "if not stringToCheck:\n",
    "    print(\"The string is empty\")\n",
    "else:\n",
    "    print(\"The string is not empty!\")"
   ]
  },
  {
   "cell_type": "code",
   "execution_count": null,
   "id": "ef2f5c3f",
   "metadata": {},
   "outputs": [],
   "source": [
    "passwordToCheck = input(\"Give me a password: \")\n",
    "if len(passwordToCheck) >= 8 and any(char.isalpha() for char in passwordToCheck) and any(char.isdigit() for char in passwordToCheck):\n",
    "    print(\"The password is secure\")\n",
    "else:\n",
    "    print(\"The password is not secure\")"
   ]
  },
  {
   "cell_type": "markdown",
   "id": "4959a3e3",
   "metadata": {},
   "source": [
    "## Loops\n",
    "- <b>for-loop</b> : iterating over a sequence or a range, you know exactly how many times!\n",
    "- **while-loop** : looping as long as a condition is met/true"
   ]
  },
  {
   "cell_type": "code",
   "execution_count": null,
   "id": "748ba614",
   "metadata": {},
   "outputs": [
    {
     "name": "stdout",
     "output_type": "stream",
     "text": [
      "a\n",
      " \n",
      "w\n",
      "o\n",
      "r\n",
      "d\n",
      "a, ,w,o,r,d,"
     ]
    }
   ],
   "source": [
    "#a sequence can also be a word\n",
    "sum = 0\n",
    "for c in \"a word\":\n",
    "    print(c) #print everything and open up a new line (standard)\n",
    "\n",
    "for c in \"a word\":\n",
    "    print(c,end = \"\") #provide your own end of each segment of the loop"
   ]
  },
  {
   "cell_type": "code",
   "execution_count": null,
   "id": "dc64b5cc",
   "metadata": {},
   "outputs": [
    {
     "name": "stdout",
     "output_type": "stream",
     "text": [
      "-5\n",
      "-4\n",
      "-3\n",
      "-2\n",
      "-1\n",
      "0\n",
      "1\n",
      "2\n",
      "3\n",
      "4\n",
      "5 *  0 = 0\n",
      "5 *  1 = 5\n",
      "5 *  2 = 10\n",
      "5 *  3 = 15\n",
      "5 *  4 = 20\n",
      "5 *  5 = 25\n",
      "5 *  6 = 30\n",
      "5 *  7 = 35\n",
      "5 *  8 = 40\n",
      "5 *  9 = 45\n",
      "5 *  10 = 50\n"
     ]
    }
   ],
   "source": [
    "for x in range(-5, 5):\n",
    "    print(x)\n",
    "\n",
    "for x in range(0, 11):\n",
    "    print(\"5 *\", x, \"=\", x * 5)"
   ]
  },
  {
   "cell_type": "code",
   "execution_count": null,
   "id": "ebf7d706",
   "metadata": {},
   "outputs": [
    {
     "name": "stdout",
     "output_type": "stream",
     "text": [
      "25 125 625 3125 15625 \n",
      "5 25 125 625 3125 "
     ]
    }
   ],
   "source": [
    "value = input(\"Enter something, stop with 'STOP'\")\n",
    "while value != \"STOP\":\n",
    "    print(value)\n",
    "    value = input(\"Enter something, stop with 'STOP'\")\n",
    "\n",
    "\n",
    "#careful for the order of your code, calculate first then print vs print first then calculate\n",
    "x = 5\n",
    "while x <= 10000:\n",
    "    x *= 5\n",
    "    print(x, end= \" \")\n",
    "\n",
    "print()\n",
    "x = 5\n",
    "while x <= 10000:\n",
    "    print(x, end= \" \")\n",
    "    x *= 5"
   ]
  },
  {
   "cell_type": "markdown",
   "id": "5f0220f9",
   "metadata": {},
   "source": [
    "## Combining coditions\n",
    "- **and** both conditions\n",
    "- **or** at least one condition\n",
    "- **not** reverse of the result of the condition"
   ]
  },
  {
   "cell_type": "code",
   "execution_count": null,
   "id": "6cbe1ceb",
   "metadata": {},
   "outputs": [
    {
     "name": "stdout",
     "output_type": "stream",
     "text": [
      "True\n",
      "True\n",
      "False\n",
      "False\n"
     ]
    }
   ],
   "source": [
    "x, y, z = 1, 2, 3\n",
    "print(x < y and y < z) #True\n",
    "print(x < y or y > z) #True\n",
    "print(x > y or y > z) #False\n",
    "\n",
    "print(not(x < y or y > z)) #False"
   ]
  },
  {
   "cell_type": "code",
   "execution_count": 17,
   "id": "3d6f6fb6",
   "metadata": {},
   "outputs": [
    {
     "name": "stdout",
     "output_type": "stream",
     "text": [
      "1\n",
      "2\n",
      "Fizz\n",
      "4\n",
      "Buzz\n",
      "Fizz\n",
      "7\n",
      "8\n",
      "Fizz\n",
      "Buzz\n",
      "11\n",
      "Fizz\n",
      "13\n",
      "14\n",
      "FizzBuzz\n",
      "16\n",
      "17\n",
      "Fizz\n",
      "19\n",
      "Buzz\n",
      "Fizz\n",
      "22\n",
      "23\n",
      "Fizz\n",
      "Buzz\n",
      "26\n",
      "Fizz\n",
      "28\n",
      "29\n",
      "FizzBuzz\n",
      "31\n",
      "32\n",
      "Fizz\n",
      "34\n",
      "Buzz\n",
      "Fizz\n",
      "37\n",
      "38\n",
      "Fizz\n",
      "Buzz\n",
      "41\n",
      "Fizz\n",
      "43\n",
      "44\n",
      "FizzBuzz\n",
      "46\n",
      "47\n",
      "Fizz\n",
      "49\n",
      "Buzz\n",
      "Fizz\n",
      "52\n",
      "53\n",
      "Fizz\n",
      "Buzz\n",
      "56\n",
      "Fizz\n",
      "58\n",
      "59\n",
      "FizzBuzz\n",
      "61\n",
      "62\n",
      "Fizz\n",
      "64\n",
      "Buzz\n",
      "Fizz\n",
      "67\n",
      "68\n",
      "Fizz\n",
      "Buzz\n",
      "71\n",
      "Fizz\n",
      "73\n",
      "74\n",
      "FizzBuzz\n",
      "76\n",
      "77\n",
      "Fizz\n",
      "79\n",
      "Buzz\n",
      "Fizz\n",
      "82\n",
      "83\n",
      "Fizz\n",
      "Buzz\n",
      "86\n",
      "Fizz\n",
      "88\n",
      "89\n",
      "FizzBuzz\n",
      "91\n",
      "92\n",
      "Fizz\n",
      "94\n",
      "Buzz\n",
      "Fizz\n",
      "97\n",
      "98\n",
      "Fizz\n",
      "Buzz\n"
     ]
    }
   ],
   "source": [
    "#SOME PRACTICE\n",
    "#FIZZBUZZ\n",
    "#write a program that prints out the first 100 numbers (1 - 100)\n",
    "#for multiples of 3 --> Fizz, multiples of 5 --> Buzz and multiples of both --> FizzBuzz\n",
    "\n",
    "for x in range(1, 101):\n",
    "    if x % 3 == 0 and x % 5 == 0:\n",
    "        print(\"FizzBuzz\")\n",
    "    elif x % 3 == 0:\n",
    "        print(\"Fizz\")\n",
    "    elif x % 5 == 0:\n",
    "        print(\"Buzz\")\n",
    "    else:\n",
    "        print(x)"
   ]
  },
  {
   "cell_type": "code",
   "execution_count": 18,
   "id": "f6cf49dd",
   "metadata": {},
   "outputs": [
    {
     "name": "stdout",
     "output_type": "stream",
     "text": [
      "Hailstone sequence:  89 268 134 67 202 101 304 152 76 38 19 58 29 88 44 22 11 34 17 52 26 13 40 20 10 5 16 8 4 2 1 "
     ]
    }
   ],
   "source": [
    "#hailstone sequence\n",
    "#print a sequence of numbers up until your reach 1\n",
    "#if the number is even, divide by 2, odd --> sequence = (3*n)+1\n",
    "\n",
    "n = int(input(\"Give me a number: \"))\n",
    "print(\"Hailstone sequence: \", n, end= \" \")\n",
    "while n != 1:\n",
    "    if n % 2 == 0:\n",
    "        n = n // 2\n",
    "    else:\n",
    "        n = (3*n) + 1\n",
    "    print(n, end=\" \")"
   ]
  }
 ],
 "metadata": {
  "kernelspec": {
   "display_name": "Python 3",
   "language": "python",
   "name": "python3"
  },
  "language_info": {
   "codemirror_mode": {
    "name": "ipython",
    "version": 3
   },
   "file_extension": ".py",
   "mimetype": "text/x-python",
   "name": "python",
   "nbconvert_exporter": "python",
   "pygments_lexer": "ipython3",
   "version": "3.13.7"
  }
 },
 "nbformat": 4,
 "nbformat_minor": 5
}
