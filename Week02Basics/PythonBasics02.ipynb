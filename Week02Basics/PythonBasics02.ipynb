{
 "cells": [
  {
   "cell_type": "markdown",
   "id": "7a1ef148",
   "metadata": {},
   "source": [
    "# Python basics week 2\n",
    "## Functions (methods in c#)\n",
    "\n",
    "def name (par1, par2, ...):\n",
    "    //do something with or without par\n",
    "    return value\n",
    "\n",
    "Create a function that counts the vowels (aeiou) in a word in 4 different ways\n",
    "- function --> no par, no return\n",
    "- function --> no par, RETURN\n",
    "- function --> par, NO RETURN\n",
    "- function --> EVERYTHING"
   ]
  },
  {
   "cell_type": "code",
   "execution_count": 2,
   "id": "4b284c3c",
   "metadata": {},
   "outputs": [
    {
     "name": "stdout",
     "output_type": "stream",
     "text": [
      "test has 1 vowels\n"
     ]
    }
   ],
   "source": [
    "#function --> no par, no return\n",
    "def CountVowelNPNR():\n",
    "    word = input(\"Give me a word: \")\n",
    "    count = 0\n",
    "    for c in word:\n",
    "        if c == 'a' or c == 'e' or c == 'i' or c == 'o' or c == 'u':\n",
    "            count += 1 #count = count + 1\n",
    "    print(word, \"has\", count, \"vowels\")\n",
    "\n",
    "CountVowelNPNR()"
   ]
  },
  {
   "cell_type": "code",
   "execution_count": 7,
   "id": "f4d2da73",
   "metadata": {},
   "outputs": [
    {
     "data": {
      "text/plain": [
       "'test has 1 vowels'"
      ]
     },
     "execution_count": 7,
     "metadata": {},
     "output_type": "execute_result"
    }
   ],
   "source": [
    "#function --> no par, return\n",
    "def CountVowelNPR():\n",
    "    word = input(\"Give me a word: \")\n",
    "    count = 0\n",
    "    for c in word:\n",
    "        if c == 'a' or c == 'e' or c == 'i' or c == 'o' or c == 'u':\n",
    "            count += 1 #count = count + 1\n",
    "    return word + \" has \" + str(count) + \" vowels\"\n",
    "\n",
    "CountVowelNPR()"
   ]
  },
  {
   "cell_type": "code",
   "execution_count": 9,
   "id": "8b7229ce",
   "metadata": {},
   "outputs": [
    {
     "name": "stdout",
     "output_type": "stream",
     "text": [
      "test has 1 vowels\n"
     ]
    }
   ],
   "source": [
    "#function --> par, no return\n",
    "def CountVowelPNR(word):\n",
    "    count = 0\n",
    "    for c in word:\n",
    "        if c in \"aeiou\":\n",
    "            count += 1 #count = count + 1\n",
    "    print(word, \"has\", count, \"vowels\")\n",
    "\n",
    "word = input(\"Give me a word: \")\n",
    "CountVowelPNR(word)"
   ]
  },
  {
   "cell_type": "code",
   "execution_count": 17,
   "id": "3c377353",
   "metadata": {},
   "outputs": [
    {
     "name": "stdout",
     "output_type": "stream",
     "text": [
      "straat has 2 vowels\n"
     ]
    }
   ],
   "source": [
    "#function --> par, return\n",
    "def CountVowelPR(word):\n",
    "    return sum(1 for c in word.lower() if c in \"aeiou)\n",
    "\n",
    "word = input(\"Give me a word: \")\n",
    "print(word, \"has\", CountVowelPR(word), \"vowels\")"
   ]
  },
  {
   "cell_type": "markdown",
   "id": "ed8cc103",
   "metadata": {},
   "source": [
    "### Exercise: next prime\n",
    "Find the next prime number using a function\n",
    "Prime numbers are positive integers > 1 that have no other positive divisors than itself or 1. --> divisible by 1 and itself\n",
    "e.g. 2, 3, 5, 7, 11, 13, 17, 19, 23, 29, 31, 37, ..."
   ]
  },
  {
   "cell_type": "code",
   "execution_count": 28,
   "id": "9e3e456b",
   "metadata": {},
   "outputs": [
    {
     "name": "stdout",
     "output_type": "stream",
     "text": [
      "True 17\n"
     ]
    }
   ],
   "source": [
    "def IsPrime(number):\n",
    "    count = 0\n",
    "    for i in range(1, number + 1):\n",
    "        if number % i == 0:\n",
    "            count += 1\n",
    "    if count == 2:\n",
    "        return True\n",
    "    else:\n",
    "        return False\n",
    "\n",
    "def NextPrime(number):\n",
    "    number += 1 #adding 1 to the original number\n",
    "    while not IsPrime(number):\n",
    "        number += 1\n",
    "    return number\n",
    "\n",
    "print(IsPrime(13), NextPrime(13))"
   ]
  },
  {
   "cell_type": "markdown",
   "id": "06a7acd6",
   "metadata": {},
   "source": [
    "## Collections\n",
    "### List []\n",
    "Most commonly used, data structure, ordered, changeable and allow duplicates\n",
    "Mutable"
   ]
  },
  {
   "cell_type": "code",
   "execution_count": null,
   "id": "d22fd136",
   "metadata": {},
   "outputs": [
    {
     "name": "stdout",
     "output_type": "stream",
     "text": [
      "[3, 'apple', True]\n",
      "[3, 'apple', True, 3, 8, 9, 3, 'apple', True, 3, 8, 9]\n",
      "['first', 3, 'apple', True, 3, 8, 9, 3, 'apple', True, 3, 8, 9, 'word']\n",
      "['first', 3, 'apple', True, 3, 8, 9, 3, 'apple', True, 3, 8, 9]\n",
      "first\n",
      "9\n",
      "9\n",
      "['first', 3, 'apple', True, 3, 8, 9, 3, 'apple', True, 3, 8, 9]\n",
      "['Anthony', 'help', 'is', 'my', 'name', 'this']\n",
      "[9, 8, 3, True, 'apple', 3, 9, 8, 3, True, 'apple', 3, 'first']\n",
      "9-8-3-True-apple-3-9-8-3-True-apple-3-first-\n",
      "Yes, apples are in the list\n",
      "[0, 2, 4, 6, 8, 10, 12, 14, 16, 18, 20, 22, 24, 26, 28, 30, 32, 34, 36, 38, 40, 42, 44, 46, 48, 50, 52, 54, 56, 58, 60, 62, 64, 66, 68, 70, 72, 74, 76, 78, 80, 82, 84, 86, 88, 90, 92, 94, 96, 98, 100]\n",
      "[0, 2, 4, 6, 8, 10, 12, 14, 16, 18, 20, 22, 24, 26, 28, 30, 32, 34, 36, 38, 40, 42, 44, 46, 48, 50, 52, 54, 56, 58, 60, 62, 64, 66, 68, 70, 72, 74, 76, 78, 80, 82, 84, 86, 88, 90, 92, 94, 96, 98, 100]\n",
      "[0, 1, 4, 9, 16, 25, 36, 49, 64, 81]\n",
      "[2, 2, 2, 2, 2, 2, 2, 2, 2, 2]\n",
      "[2, 20, 2, 2, 2, 2, 2, 2, 2, 2]\n",
      "[9, 8, 3, 3, 9, 8, 3, 3]\n",
      "1 \n",
      "2 \n",
      "3 \n",
      "4 \n",
      "5 \n",
      "6 \n",
      "7 \n",
      "8 \n",
      "9 \n"
     ]
    }
   ],
   "source": [
    "list = [] #empty list\n",
    "list.append(3) #adding an item to the end of the list\n",
    "list.append(\"apple\")\n",
    "list.append(True)\n",
    "\n",
    "print(list)\n",
    "\n",
    "list += [3, 8, 9]\n",
    "list += list\n",
    "print(list)\n",
    "\n",
    "list = list + [\"word\"]\n",
    "list.insert(0, \"first\")\n",
    "print(list)\n",
    "\n",
    "list.pop() #removes the last index with content\n",
    "print(list)\n",
    "print(list[0])\n",
    "print(list[-1])\n",
    "print(list[len(list)-1])\n",
    "#list.sort() -> can't be done, with different datatypes in the list\n",
    "print(list)\n",
    "\n",
    "strings = [\"help\", \"this\", \"is\", \"my\", \"name\", \"Anthony\"]\n",
    "strings.sort()\n",
    "print(strings)\n",
    "\n",
    "list.reverse()\n",
    "print(list)\n",
    "\n",
    "for element in list:\n",
    "    print(element, end=\"-\")\n",
    "\n",
    "print()\n",
    "if \"apple\" in list:\n",
    "    print(\"Yes, apples are in the list\")\n",
    "\n",
    "newlist = [x for x in range(0, 101, 2)]\n",
    "print(newlist)\n",
    "\n",
    "newlist = []\n",
    "for x in range(0, 101, 2):\n",
    "    newlist.append(x)\n",
    "\n",
    "print(newlist)\n",
    "\n",
    "newlist = [x ** 2 for x in range(0, 10)]\n",
    "print(newlist)\n",
    "\n",
    "newlist = [2] * 10\n",
    "print(newlist)\n",
    "\n",
    "newlist[1] *= 10\n",
    "print(newlist)\n",
    "\n",
    "newlist = []\n",
    "for element in list:\n",
    "    #print(type(element)) --> check datatype if need be\n",
    "    if type(element) == int:\n",
    "        newlist.append(element)\n",
    "print(newlist)\n",
    "\n",
    "matrix = [[1,2,3], [4, 5, 6], [7, 8, 9]]\n",
    "for row in matrix:\n",
    "    for element in row:\n",
    "        print(element, end=\" \")\n",
    "    print()\n",
    "\n",
    "print()\n",
    "for i range(0, len(matrix)):\n",
    "    for j in range(0, len(matrix[i])):\n",
    "        print(matrix[i][j], end= \" \")\n",
    "    print()\n"
   ]
  },
  {
   "cell_type": "markdown",
   "id": "4fee8f9c",
   "metadata": {},
   "source": [
    "### Tuple ()\n",
    "Similar to lists but they are immutable, ordered\n",
    "Can't be modified after being created\n",
    "--> mostly used for months, days of the week, seasons, planets, ..."
   ]
  },
  {
   "cell_type": "code",
   "execution_count": 57,
   "id": "c94adee7",
   "metadata": {},
   "outputs": [
    {
     "name": "stdout",
     "output_type": "stream",
     "text": [
      "('Monday', 'Tuesday', 'Wednesday', 'Thursday', 'Friday', 'Saturday', 'Sunday')\n",
      "('Monday', 'Tuesday', 'Wednesday', 'Thursday', 'Friday', 'Saturday', 'Sunday', 'Jan', 'Feb')\n"
     ]
    }
   ],
   "source": [
    "weekdays = (\"Monday\", \"Tuesday\", \"Wednesday\", \"Thursday\", \"Friday\", \"Saturday\", \"Sunday\")\n",
    "print(weekdays)\n",
    "months = (\"Jan\", \"Feb\")\n",
    "weekdays += months\n",
    "#weekdays += \"TEST\" --> DOESNT WORK\n",
    "print(weekdays)\n"
   ]
  },
  {
   "cell_type": "markdown",
   "id": "4c09d7d2",
   "metadata": {},
   "source": [
    "### Set {}\n",
    "unordered, and doesn't allow duplicates\n",
    "can contain any datatype and are immutable, but must be hashed"
   ]
  },
  {
   "cell_type": "code",
   "execution_count": 58,
   "id": "d6cd452a",
   "metadata": {},
   "outputs": [
    {
     "name": "stdout",
     "output_type": "stream",
     "text": [
      "LIST [2, 3, 5, 5, 7, 7, 11, 11, 11, 11, 13, 13, 17, 17, 17, 17, 19, 19, 23, 23, 23, 23, 29, 29, 29, 29, 29, 29, 31, 31, 37, 37, 37, 37, 37, 37, 41, 41, 41, 41, 43, 43, 47, 47, 47, 47, 53, 53, 53, 53, 53, 53, 59, 59, 59, 59, 59, 59, 61, 61, 67, 67, 67, 67, 67, 67, 71, 71, 71, 71, 73, 73, 79, 79, 79, 79, 79, 79, 83, 83, 83, 83, 89, 89, 89, 89, 89, 89, 97, 97, 97, 97, 97, 97, 97, 97, 101, 101, 101]\n",
      "SET {2, 3, 5, 7, 11, 13, 17, 19, 23, 29, 31, 37, 41, 43, 47, 53, 59, 61, 67, 71, 73, 79, 83, 89, 97, 101}\n"
     ]
    }
   ],
   "source": [
    "prime_list = [2]\n",
    "prime_set = {2}\n",
    "\n",
    "#CFR TO ISPRIME AND NEXTPRIME AT THE TOP\n",
    "\n",
    "for x in range(2, 100):\n",
    "    prime_list.append(NextPrime(x))\n",
    "    prime_set.add(NextPrime(x))\n",
    "\n",
    "print(\"LIST\", prime_list)\n",
    "print(\"SET\", prime_set)\n"
   ]
  },
  {
   "cell_type": "markdown",
   "id": "3d4f685f",
   "metadata": {},
   "source": [
    "### Dictionary {key: value}\n",
    "-->unordered, changable, and indexed by key\n",
    "can contain any datatype"
   ]
  },
  {
   "cell_type": "code",
   "execution_count": null,
   "id": "7d4fda1b",
   "metadata": {},
   "outputs": [
    {
     "ename": "SyntaxError",
     "evalue": "invalid syntax (2590017468.py, line 25)",
     "output_type": "error",
     "traceback": [
      "  \u001b[36mCell\u001b[39m\u001b[36m \u001b[39m\u001b[32mIn[68]\u001b[39m\u001b[32m, line 25\u001b[39m\n\u001b[31m    \u001b[39m\u001b[31mempty = {:}\u001b[39m\n             ^\n\u001b[31mSyntaxError\u001b[39m\u001b[31m:\u001b[39m invalid syntax\n"
     ]
    }
   ],
   "source": [
    "dictionary = {\"a\": \"apple\", \"b\": \"banana\"}\n",
    "print(dictionary)\n",
    "dictionary[\"c\"] = \"coconut\"\n",
    "print(dictionary)\n",
    "\n",
    "dictionary[\"c\"] = \"cucumber\"\n",
    "print(dictionary)\n",
    "\n",
    "dictionary[2] = 3.2\n",
    "print(dictionary)\n",
    "\n",
    "dictionary_list = {\"a\" : [\"apple\", 1, 3.2, True], \"3\": \"TEST\"}\n",
    "print(dictionary_list)\n",
    "\n",
    "dictionary_list[\"a\"].append(\"apricot\")\n",
    "print(dictionary_list)\n",
    "\n",
    "for key in dictionary_list:\n",
    "    print(key, \"->\")\n",
    "    for value in dictionary_list[key]:\n",
    "        print(value)\n",
    "\n",
    "print(dictionary_list)"
   ]
  }
 ],
 "metadata": {
  "kernelspec": {
   "display_name": "Python 3",
   "language": "python",
   "name": "python3"
  },
  "language_info": {
   "codemirror_mode": {
    "name": "ipython",
    "version": 3
   },
   "file_extension": ".py",
   "mimetype": "text/x-python",
   "name": "python",
   "nbconvert_exporter": "python",
   "pygments_lexer": "ipython3",
   "version": "3.13.7"
  }
 },
 "nbformat": 4,
 "nbformat_minor": 5
}
